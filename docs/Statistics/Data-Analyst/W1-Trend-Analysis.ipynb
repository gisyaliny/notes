{
 "cells": [
  {
   "cell_type": "markdown",
   "metadata": {},
   "source": [
    "## Trend Analysis\n",
    "\n",
    "* Mean, Median, Quantile, Mode\n",
    "* Standard deviation, Variance\n",
    "* Skewness and kurtosis, Normal distribution (kurtosis = 3) and 3 important distributions\n",
    "    * Chi-squared distribution: $ Q = \\sum_{i=1}^{k}Z_i^2$\n",
    "        * In statistics often used in hypothesis testing and confidence interval estimation, particularly within the context of **goodness-of-fit tests**, tests of **independence in contingency tables**, and **variance estimation in ANOVA**. \n",
    "        * Q is a Chi-squared distributed variable.\n",
    "        * Z is a standard normal variable.\n",
    "        * k is the degrees of freedom, corresponding to the number of $Z_i^2$ terms being summed.\n",
    "    * t distribution: $t = Z/\\frac{Q}{k}$\n",
    "        *  It arises when **estimating the mean** of a normally distributed population in situations where the **sample size is small**, and the **population standard deviation is unknown**\n",
    "        * Z is a standard normal variable.\n",
    "        * Q is a Chi-squared variable with k degrees of freedom.\n",
    "        * k is the degrees of freedom, usually n - 1 in the context of a sample of size n. \n",
    "    * F distribution: $F= \\frac{Q_1/d_1}{Q_2/d_2}$\n",
    "        * It is most commonly used in the **Analysis of Variance (ANOVA)**, especially for **comparing the ratio of two variances** to understand if they are significantly different.\n",
    "        * $Q_1$ and $Q_2$ are independently chi-squared distributed variables with $d_1$ and $d_2$ degree of freedom, respectively.\n",
    "        * F is and F-distributed variable with $d_1$ and $d_2$ degrees of freedom.\n",
    "* Sampling\n",
    "    * Error\n",
    "        * Error in sampling with replacement: $u_x=\\sqrt{\\sigma^2/n}$\n",
    "        * Error in sampling without replacement: $u_x=\\sqrt{\\frac{\\sigma^2}{n} (\\frac{N-n}{N-1})}$\n",
    "        * N is population size, n is sample size\n",
    "    * Sample Size\n",
    "        * Proper Sample Size with replacement: $n=\\frac{Z_{\\alpha/2}{\\sigma^2}}{E^2}$\n",
    "            * $Z_{\\alpha/2}$ is the z-score corresponding to the desired confidence level.\n",
    "            * $\\sigma$ is the standard deviation of the population.\n",
    "            * E is the desired margin of error.\n",
    "            * 95% confidence interval $\\to$ 2 $\\sigma$ from $\\mu$\n",
    "        * Example: You are conducting a survey to estimate the average height of adult males in a city. You want to be confident that your sample mean is close to the true population mean, so you decide to use the sample size formula to determine how many individuals you should include in your sample.\n",
    "            * Desired Confidence Level: 95% \n",
    "            * Population Standard Deviation ($\\sigma$): Assume it's 4 inches \n",
    "            * Margin of Error ($E$):  ±0.5 inches of the true mean\n",
    "            * $n=\\frac{Z_{\\alpha/2}{\\sigma^2}}{E^2} = (\\frac{1.96 * 4}{0.5})^2=15.68^2=245.86$\n",
    "        * Proper Sample Size without replacement: $\\frac{N\\frac{Z_{\\alpha/2}^2*\\sigma^2}{E^2}}{N+\\frac{Z_{\\alpha/2}^2*\\sigma^2}{E^2}-1}$   \n",
    "            * N is the population size (**It's important to know**)\n",
    "            * $Z_{\\alpha/2}$ is the z-score corresponding to the desired confidence level.\n",
    "            * $\\sigma$ is the standard deviation of the population.\n",
    "            * E is the desired margin of error.\n",
    "        * We do the same example but we already know there's 10,000 adult males in the city.\n",
    "            * $n=\\frac{N\\frac{Z_{\\alpha/2}^2*\\sigma^2}{E^2}}{N+\\frac{Z_{\\alpha/2}^2*\\sigma^2}{E^2}-1}= \\frac{10000*\\frac{1.96^2*4^2}{0.5^2}}{10000+\\frac{1.96^2*4^2}{0.5^2}-1}=240$\n"
   ]
  },
  {
   "cell_type": "markdown",
   "metadata": {},
   "source": [
    "## Data Type\n",
    "1. **Nominal** Data: Represents categories that do not have a natural order or ranking.\n",
    "    * Example: Gender, Nationality, Race\n",
    "\n",
    "2. **Ordinal** Data: represents categories with a natural order but the intervals between the categories are not known.\n",
    "    * Example: ranks like first, second, third, or rating scales such as satisfaction from 1 to 5.\n",
    "\n",
    "3. **Interval** Data: is numeric, providing meaningful amounts of difference between values, but there is no true zero point.\n",
    "    * Example:  temperature in Celsius or Fahrenheit\n",
    "\n",
    "4. **Ratio** Data:  is the most informative level of measurement. It has a natural order, equal intervals, and a true zero point.\n",
    "    * Example: height, weight, age, and distance."
   ]
  },
  {
   "cell_type": "markdown",
   "metadata": {},
   "source": [
    "## Single Variable analysis\n",
    "### Outlier Analysis\n",
    "1. **Purpose**: Identify data points that are significantly different from the majority of the data. Outliers can skew and mislead the training process of machine learning models resulting in longer training times, less accurate models, and ultimately poorer results.\n",
    "2. **Methods**: Box plots, scatter plots, Z-score, IQR method.\n",
    "\n",
    "### Comparison Analysis\n",
    "1. **Purpose**: Understand the variable's characteristics compared to other variables or its behavior across different subgroups within the dataset.\n",
    "2. **Methods**: Descriptive statistics (mean, median, mode), visualizations like histograms or bar charts for categorical data.\n",
    "\n",
    "### Structure Analysis\n",
    "1. **Purpose**: Understand the type, category, and general composition of the data variable.\n",
    "2. **Components:**\n",
    "    * **Data Type Identification**: Recognizing if the variable is nominal, ordinal, interval, or ratio.\n",
    "    * **Missing Values Identification**: Assessing the amount and pattern of missing data.\n",
    "    * **Zero Variance Identification**: Detecting if the variable has a single constant value or limited variance, which might be uninformative for certain analyses.\n",
    "\n",
    "### Distribution Analysis\n",
    "1. **Purpose**:  Understand the distribution and frequency of data points.\n",
    "2. **Methods**\n",
    "    * **Graphical Representations**: Histograms, density plots, and Q-Q plots for visual inspection of distribution.\n",
    "    * **Statistical Tests** ： Kolmogorov-Smirnov test, Shapiro-Wilk test for normality testing.\n",
    "    * **Summary Statistics**: Skewness, kurtosis to understand the shape of distribution."
   ]
  }
 ],
 "metadata": {
  "language_info": {
   "name": "python"
  }
 },
 "nbformat": 4,
 "nbformat_minor": 2
}
