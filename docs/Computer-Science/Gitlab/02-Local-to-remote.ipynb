{
 "cells": [
  {
   "cell_type": "markdown",
   "id": "6e19e95a",
   "metadata": {},
   "source": [
    "# 🚀 GitLab: From Local Folder to Remote Repo"
   ]
  },
  {
   "cell_type": "markdown",
   "id": "25cbc742",
   "metadata": {},
   "source": [
    "## 📂 Initialize a Local Repository\n",
    "\n",
    "- Navigate to your project folder in the terminal\n",
    "\n",
    "    ```bash\n",
    "    cd /path/to/your/folder\n",
    "    git init\n",
    "    ```\n",
    "\n",
    "- This makes your folder a Git repository, then add your files and make the first commit:\n",
    "\n",
    "\n",
    "    ```bash\n",
    "    git add .\n",
    "    git commit -m \"Initial commit\"\n",
    "    ```"
   ]
  },
  {
   "cell_type": "markdown",
   "id": "81b44b6f",
   "metadata": {},
   "source": [
    "## 🖥️ Create a New Project on GitLab\n",
    "\n",
    "1. Go to [GitLab](https://gitlab.com/)\n",
    "2. Click **New project → Create blank project**.\n",
    "3. Enter a name (e.g., `my-project`).\n",
    "4. Don’t add **README** if you already have one locally.(If you do add one, see Section 5.)"
   ]
  },
  {
   "cell_type": "markdown",
   "id": "2f2c4f29",
   "metadata": {},
   "source": [
    "## 🔗 Connect Local Repo to GitLab\n",
    "\n",
    "* On the GitLab project page, copy the repo URL:\n",
    "\n",
    "  *  **HTTPS example**:\n",
    "        ```bash\n",
    "        git remote add origin https://gitlab.com/username/my-project.git\n",
    "        ```\n",
    "\n",
    "  *  **SSH example (recommended)**:\n",
    "        ```bash\n",
    "        git remote add origin git@gitlab.com:username/my-project.git\n",
    "        ```\n",
    "\n"
   ]
  },
  {
   "cell_type": "markdown",
   "id": "f03183e8",
   "metadata": {},
   "source": [
    "## 🚀 Push to GitLab\n",
    "\n",
    "```bash\n",
    "    git branch -M main      # Ensure branch is called main\n",
    "    git push -u origin main\n",
    "```\n",
    "\n",
    "- Your project is now on GitLab 🎉"
   ]
  },
  {
   "cell_type": "markdown",
   "id": "a742b28f",
   "metadata": {},
   "source": [
    "## ⚡ Fixing the README Conflict\n",
    "\n",
    "- If you created your GitLab repo with a README, you’ll see this error when pushing:\n",
    "    ```bash\n",
    "    fatal: refusing to merge unrelated histories\n",
    "    ```\n",
    "\n",
    "- Solution: Merge histories\n",
    "    ```bash\n",
    "    git pull origin main --allow-unrelated-histories\n",
    "    ```\n",
    "  - Resolve conflicts if prompted.\n",
    "- Then push again:\n",
    "    ```bash\n",
    "    git push -u origin main\n",
    "    ```\n",
    "\n",
    "- Alternative: Overwrite remote (⚠ **destructive**)\n",
    "\n",
    "    ```bash\n",
    "    git push -u origin main --force\n",
    "    ```\n",
    "\n",
    "    - Only use this if you don’t need the GitLab README or other remote history."
   ]
  },
  {
   "cell_type": "markdown",
   "id": "5930672a",
   "metadata": {},
   "source": [
    "## 🛠️ Common Git Commands Cheat Sheet\n",
    "\n",
    "- Check repo status\n",
    "    ```bash\n",
    "    git status\n",
    "    ```\n",
    "\n",
    "- See commit history\n",
    "    ```bash\n",
    "    git log --oneline --graph --all\n",
    "    ```\n",
    "\n",
    "- Pull latest changes\n",
    "    ```bash\n",
    "    git pull\n",
    "    ```\n",
    "\n",
    "- Stage & commit changes\n",
    "    ```bash\n",
    "    git add .\n",
    "    git commit -m \"Your message\"\n",
    "    git push\n",
    "    ```"
   ]
  },
  {
   "cell_type": "markdown",
   "id": "8d039f13",
   "metadata": {},
   "source": [
    "## ✅ Summary\n",
    "\n",
    "1. `git init` → create local repo\n",
    "2. `git add .` && `git commit -m \"Initial commit\"` → commit files\n",
    "3. Create GitLab project\n",
    "4. `git remote add origin <repo_url>` → connect remote\n",
    "5. `git push -u origin main` → upload files\n",
    "6. Set up SSH for easier pushes\n",
    "7. Use `--allow-unrelated-histories` if GitLab created a README"
   ]
  }
 ],
 "metadata": {
  "language_info": {
   "name": "python"
  }
 },
 "nbformat": 4,
 "nbformat_minor": 5
}
