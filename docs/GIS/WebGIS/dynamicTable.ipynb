{
 "cells": [
  {
   "cell_type": "markdown",
   "metadata": {},
   "source": [
    "## Creating Dynamic Tables Using JavaScript and HTML\n",
    "\n",
    "`Dynamic tables` are a powerful way to present and manipulate data on a webpage. Using `JavaScript`, you can **generate**, **filter**, **sort**, **paginate**, and **populate** tables with data from various sources such as `JSON` or `REST APIs`."
   ]
  },
  {
   "cell_type": "markdown",
   "metadata": {},
   "source": [
    "## Generate Dynamic Table Using JSON\n",
    "\n",
    "To generate a table dynamically from JSON, follow these steps\n",
    "\n",
    "### HTML Structure\n",
    "\n",
    "```html\n",
    "    <div id=\"table-container\">\n",
    "\n",
    "    </div>\n",
    "```\n",
    "\n",
    "### JavaScript\n",
    "```js\n",
    "    const jsonData = [\n",
    "        { id: 1, name: \"John Doe\", age: 28, occupation: \"Developer\" },\n",
    "        { id: 2, name: \"Jane Smith\", age: 34, occupation: \"Designer\" },\n",
    "        { id: 3, name: \"Sam Wilson\", age: 23, occupation: \"Writer\" },\n",
    "    ];\n",
    "\n",
    "    function generateTable(data){\n",
    "        const tableContainer = document.getElementById(\"table-container\");\n",
    "        tableContainer.innerHTML = \"\"; // Clear any existing table\n",
    "\n",
    "        const table = document.createElement(\"table\");\n",
    "        table.border = \"1\";\n",
    "\n",
    "        // Create the table header\n",
    "        const headerRow = document.createElement(\"tr\");\n",
    "        headerRow.classList.add(\"bg-info\"); // add bootstrap class\n",
    "        Object.keys(data[0]).forEach((key) => {\n",
    "            console.log(key);\n",
    "            const th = document.createElement(\"th\");\n",
    "            th.textContent = key.charAt(0).toUpperCase() + key.slice(1);  //Capitalize the first character\n",
    "            headerRow.appendChild(th);\n",
    "        });\n",
    "        table.appendChild(headerRow);\n",
    "\n",
    "        //Create table rows\n",
    "        data.forEach((item)=>{\n",
    "            const row = document.createElement('tr');\n",
    "            Object.values(item).forEach((value)=>{\n",
    "                const td = document.createElement('td');\n",
    "                td.textContent = value;\n",
    "                row.appendChild(td);\n",
    "            });\n",
    "            table.appendChild(row);\n",
    "        });\n",
    "        tableContainer.appendChild(table);\n",
    "    };\n",
    "\n",
    "    \n",
    "    // Initialize the table\n",
    "    generateTable(jsonData);\n",
    "```"
   ]
  },
  {
   "cell_type": "markdown",
   "metadata": {},
   "source": [
    "## Getting data from REST API"
   ]
  },
  {
   "cell_type": "markdown",
   "metadata": {},
   "source": [
    "### Fetching JSON Data:\n",
    "\n",
    "```js\n",
    "// Get data from api link\n",
    "fetch(`https://reqres.in/api/users`, {\n",
    "    method: \"GET\",\n",
    "    headers: {\n",
    "    \"X-Requested-With\": \"XMLHttpRequest\",\n",
    "    },\n",
    "})\n",
    "    .then((response) => response.json())\n",
    "    .then((result) => {\n",
    "        console.log(result.data);\n",
    "    });\n",
    "```"
   ]
  },
  {
   "cell_type": "markdown",
   "metadata": {},
   "source": [
    "### Use `generateTable` Function \n",
    "\n",
    "```js\n",
    "// Get data from api link\n",
    "fetch(`https://reqres.in/api/users`, {\n",
    "    method: \"GET\",\n",
    "    headers: {\n",
    "    \"X-Requested-With\": \"XMLHttpRequest\",\n",
    "    },\n",
    "})\n",
    "    .then((response) => response.json())\n",
    "    .then((result) => {\n",
    "    //console.log(result.data);\n",
    "    // Initialize the table\n",
    "    generateTable(result.data);\n",
    "    });\n",
    "```"
   ]
  },
  {
   "cell_type": "markdown",
   "metadata": {},
   "source": [
    "## Search by fields\n",
    "\n",
    "### HTML Structure\n",
    "\n",
    "```html\n",
    "    <input type=\"text\" id=\"search-input\" placeholder=\"Search by name...\">\n",
    "    <div id=\"table-container\"></div>\n",
    "```\n",
    "\n",
    "### JavaScript\n",
    "\n",
    "* Add event to search input\n",
    "  * We can also bind to `input` events, the difference is, `change` only triggered after input submission (user hit `enter`)\n",
    "\n",
    "    ```js\n",
    "    // Event to search input\n",
    "    document.getElementById(\"search-input\").addEventListener('change',function(e){\n",
    "        console.log(`input:${e.target.value}`);\n",
    "    });\n",
    "    ```\n",
    "  \n",
    "* Filter response from api and call `generateTable` on new data\n"
   ]
  }
 ],
 "metadata": {
  "language_info": {
   "name": "python"
  }
 },
 "nbformat": 4,
 "nbformat_minor": 2
}
