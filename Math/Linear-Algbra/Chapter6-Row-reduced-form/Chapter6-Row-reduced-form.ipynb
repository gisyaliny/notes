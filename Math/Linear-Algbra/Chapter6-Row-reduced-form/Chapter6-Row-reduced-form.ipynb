{
 "cells": [
  {
   "cell_type": "markdown",
   "id": "64606dea-eb7c-436b-b769-c45b34e55647",
   "metadata": {},
   "source": [
    "# Rectangular $PA = LU$ and $Ax = b$"
   ]
  },
  {
   "cell_type": "markdown",
   "id": "5ef39b07-c7ca-44a1-a233-cf325347a39d",
   "metadata": {
    "tags": []
   },
   "source": []
  },
  {
   "cell_type": "markdown",
   "id": "cb253859-a949-4c21-b26f-6369fc379829",
   "metadata": {},
   "source": [
    "# Row reduced echelon form"
   ]
  },
  {
   "cell_type": "code",
   "execution_count": null,
   "id": "513cd77d-ab80-4557-ac40-df7b9c5eb07d",
   "metadata": {},
   "outputs": [],
   "source": []
  }
 ],
 "metadata": {
  "kernelspec": {
   "display_name": "Python 3 (ipykernel)",
   "language": "python",
   "name": "python3"
  },
  "language_info": {
   "codemirror_mode": {
    "name": "ipython",
    "version": 3
   },
   "file_extension": ".py",
   "mimetype": "text/x-python",
   "name": "python",
   "nbconvert_exporter": "python",
   "pygments_lexer": "ipython3",
   "version": "3.10.9"
  }
 },
 "nbformat": 4,
 "nbformat_minor": 5
}
