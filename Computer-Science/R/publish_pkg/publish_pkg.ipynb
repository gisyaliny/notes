{
 "cells": [
  {
   "cell_type": "markdown",
   "metadata": {},
   "source": [
    "# Publish R package on CRAN\n",
    "\n",
    "* [R-bloggers Tutorial](https://www.r-bloggers.com/2020/07/how-to-write-your-own-r-package-and-publish-it-on-cran/)\n",
    "* [ebook](https://r-pkgs.org/)"
   ]
  },
  {
   "cell_type": "markdown",
   "metadata": {},
   "source": [
    "## Set up your package with RStudio and GitHub\n",
    "\n"
   ]
  },
  {
   "cell_type": "code",
   "execution_count": null,
   "metadata": {},
   "outputs": [],
   "source": []
  }
 ],
 "metadata": {
  "language_info": {
   "name": "python"
  }
 },
 "nbformat": 4,
 "nbformat_minor": 2
}
