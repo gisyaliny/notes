{
 "cells": [
  {
   "cell_type": "markdown",
   "id": "2ef8d22b",
   "metadata": {},
   "source": [
    "# 🔐 GitLab SSH Setup — Windows & Linux/macOS\n",
    "\n",
    "* **Goal**: create/load an SSH key, add it to GitLab, and verify with ssh -T git@gitlab.com."
   ]
  },
  {
   "cell_type": "markdown",
   "id": "8221d6b6",
   "metadata": {},
   "source": [
    "## Prereqs\n",
    "\n",
    "- Git installed\n",
    "\n",
    "  - Windows: [Git for Windows] (includes Git Bash + OpenSSH)\n",
    "\n",
    "  - Linux/macOS: Git + OpenSSH are usually preinstalled\n",
    "\n",
    "- A GitLab account"
   ]
  },
  {
   "cell_type": "markdown",
   "id": "40a14cdf",
   "metadata": {},
   "source": [
    "## Check if you already have an SSH key\n",
    "\n",
    "- Linux / macOS / Windows (Git Bash)\n",
    "  \n",
    "    ```bash\n",
    "    ls -al ~/.ssh\n",
    "    ```\n",
    "\n",
    "- Windows (PowerShell)\n",
    "  \n",
    "    ```powershell\n",
    "    Get-ChildItem ~\\.ssh\n",
    "    ```\n",
    "- Look for a key pair like `id_ed25519` (private) and `id_ed25519.pub` (public).\n",
    "- Typical locations:\n",
    "\n",
    "  - Linux/macOS: `~/.ssh/`\n",
    "\n",
    "  - Windows: `C:\\Users\\<You>\\.ssh\\`"
   ]
  },
  {
   "cell_type": "markdown",
   "id": "b41ae13f",
   "metadata": {},
   "source": [
    "## Generate a new key (if you don’t have one)\n",
    "- Use Ed25519 as demo \n",
    "  \n",
    "- Linux / macOS / Windows (Git Bash) / - Windows (PowerShell)\n",
    "  \n",
    "    ```bash\n",
    "    ssh-keygen -t ed25519 -C \"you@example.com\"\n",
    "    ```\n",
    "\n",
    "- **Result**: `id_ed25519` and `id_ed25519.pub` created in your `~/.ssh` (or `C:\\Users\\<You>\\.ssh`)\n"
   ]
  },
  {
   "cell_type": "markdown",
   "id": "c43d06bd",
   "metadata": {},
   "source": [
    "## Start the SSH agent & add your key\n",
    "\n",
    "- Linux / macOS / Windows (Git Bash)\n",
    "  \n",
    "    ```bash\n",
    "    # start agent in this shell.\n",
    "    eval \"$(ssh-agent -s)\"\n",
    "    # add your key\n",
    "    ssh-add ~/.ssh/id_ed25519\n",
    "    ```\n",
    "\n",
    "    - If you get “no such file,” double-check the path/filename.\n",
    "\n",
    "\n",
    "- Windows (PowerShell)\n",
    "  \n",
    "    ```powershell\n",
    "    # make the agent run automatically\n",
    "    Get-Service ssh-agent | Set-Service -StartupType Automatic\n",
    "    Start-Service ssh-agent\n",
    "\n",
    "    # add your key\n",
    "    ssh-add $env:USERPROFILE\\.ssh\\id_ed25519\n",
    "    ```"
   ]
  },
  {
   "cell_type": "markdown",
   "id": "20a8075d",
   "metadata": {},
   "source": [
    "## Copy your public key and add to GitLab\n",
    "\n",
    "- Open the `.pub` file and copy all its contents\n",
    "  \n",
    "- Then in `GitLab`: **User menu → Settings → SSH Keys → Add new key** (paste, give a title, Save)."
   ]
  },
  {
   "cell_type": "markdown",
   "id": "e5e6aaa2",
   "metadata": {},
   "source": [
    "## Test the connection\n",
    "\n",
    "- Linux / macOS / Windows\n",
    "  \n",
    "    ```bash\n",
    "    ssh -T git@gitlab.com\n",
    "    ```\n",
    "\n",
    "- Expected success message:\n",
    "\n",
    "    ```css\n",
    "    Welcome to GitLab, @your-username!\n",
    "    ```\n",
    "\n",
    "- If you see `Permission denied (publickey)`, the key either isn’t added to `GitLab` or not loaded in the agent."
   ]
  },
  {
   "cell_type": "markdown",
   "id": "50834b7a",
   "metadata": {},
   "source": [
    "## Troubleshooting tips\n",
    "\n",
    "- Agent says **no identities** → run `ssh-add` again (see Step 3)\n",
    "  \n",
    "- Permissions on Linux/macOS (rarely the issue on Windows)\n",
    "\n",
    "    ```bash\n",
    "    chmod 700 ~/.ssh\n",
    "    chmod 600 ~/.ssh/id_ed25519\n",
    "    chmod 644 ~/.ssh/id_ed25519.pub\n",
    "    ```\n",
    "\n",
    "- Multiple keys? Create `~/.ssh/config`\n",
    "\n",
    "    ```text\n",
    "    Host gitlab.com\n",
    "        HostName gitlab.com\n",
    "        User git\n",
    "        IdentityFile ~/.ssh/id_ed25519\n",
    "        IdentitiesOnly yes\n",
    "    ```"
   ]
  }
 ],
 "metadata": {
  "language_info": {
   "name": "python"
  }
 },
 "nbformat": 4,
 "nbformat_minor": 5
}
