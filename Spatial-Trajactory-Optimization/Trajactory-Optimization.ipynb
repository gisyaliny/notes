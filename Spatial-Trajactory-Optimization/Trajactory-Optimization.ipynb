{
 "cells": [
  {
   "cell_type": "markdown",
   "metadata": {},
   "source": [
    "First, let's generate some sample data to work with.     \n",
    "We use `np.zeros` to generate random trajectory data divided into multiple roads with nodes. The `estimate_success_probability` function now takes a 3D array of trajectory data as input, where the **first dimension corresponds to the road**, the **second dimension corresponds to the nod**e, and the **third dimension corresponds to the x and y coordinates of the node**."
   ]
  },
  {
   "cell_type": "code",
   "execution_count": 5,
   "metadata": {},
   "outputs": [
    {
     "name": "stdout",
     "output_type": "stream",
     "text": [
      "Collecting pgmpy\n",
      "  Downloading pgmpy-0.1.21-py3-none-any.whl (1.9 MB)\n",
      "Collecting opt-einsum\n",
      "  Downloading opt_einsum-3.3.0-py3-none-any.whl (65 kB)\n",
      "Requirement already satisfied: numpy in d:\\anaconda\\lib\\site-packages (from pgmpy) (1.21.5)\n",
      "Requirement already satisfied: tqdm in d:\\anaconda\\lib\\site-packages (from pgmpy) (4.64.0)\n",
      "Requirement already satisfied: scikit-learn in d:\\anaconda\\lib\\site-packages (from pgmpy) (1.0.2)\n",
      "Requirement already satisfied: statsmodels in d:\\anaconda\\lib\\site-packages (from pgmpy) (0.13.2)\n",
      "Requirement already satisfied: joblib in d:\\anaconda\\lib\\site-packages (from pgmpy) (1.1.0)\n",
      "Requirement already satisfied: networkx in d:\\anaconda\\lib\\site-packages (from pgmpy) (3.0)\n",
      "Requirement already satisfied: pyparsing in d:\\anaconda\\lib\\site-packages (from pgmpy) (3.0.4)\n",
      "Collecting torch\n",
      "  Downloading torch-1.13.1-cp39-cp39-win_amd64.whl (162.5 MB)\n",
      "Requirement already satisfied: scipy in d:\\anaconda\\lib\\site-packages (from pgmpy) (1.10.1)\n",
      "Requirement already satisfied: pandas in d:\\anaconda\\lib\\site-packages (from pgmpy) (1.4.2)\n",
      "Requirement already satisfied: python-dateutil>=2.8.1 in d:\\anaconda\\lib\\site-packages (from pandas->pgmpy) (2.8.2)\n",
      "Requirement already satisfied: pytz>=2020.1 in d:\\anaconda\\lib\\site-packages (from pandas->pgmpy) (2021.3)\n",
      "Requirement already satisfied: six>=1.5 in d:\\anaconda\\lib\\site-packages (from python-dateutil>=2.8.1->pandas->pgmpy) (1.16.0)\n",
      "Requirement already satisfied: threadpoolctl>=2.0.0 in d:\\anaconda\\lib\\site-packages (from scikit-learn->pgmpy) (2.2.0)\n",
      "Requirement already satisfied: patsy>=0.5.2 in d:\\anaconda\\lib\\site-packages (from statsmodels->pgmpy) (0.5.2)\n",
      "Requirement already satisfied: packaging>=21.3 in d:\\anaconda\\lib\\site-packages (from statsmodels->pgmpy) (23.0)\n",
      "Requirement already satisfied: typing-extensions in d:\\anaconda\\lib\\site-packages (from torch->pgmpy) (4.1.1)\n",
      "Requirement already satisfied: colorama in d:\\anaconda\\lib\\site-packages (from tqdm->pgmpy) (0.4.6)\n",
      "Installing collected packages: torch, opt-einsum, pgmpy\n",
      "Successfully installed opt-einsum-3.3.0 pgmpy-0.1.21 torch-1.13.1\n"
     ]
    }
   ],
   "source": [
    "# !pip install pgmpy"
   ]
  },
  {
   "cell_type": "code",
   "execution_count": 8,
   "metadata": {},
   "outputs": [
    {
     "ename": "ImportError",
     "evalue": "DLL load failed while importing _ufuncs: The specified module could not be found.",
     "output_type": "error",
     "traceback": [
      "\u001b[1;31m---------------------------------------------------------------------------\u001b[0m",
      "\u001b[1;31mImportError\u001b[0m                               Traceback (most recent call last)",
      "Input \u001b[1;32mIn [8]\u001b[0m, in \u001b[0;36m<cell line: 3>\u001b[1;34m()\u001b[0m\n\u001b[0;32m      1\u001b[0m \u001b[38;5;28;01mimport\u001b[39;00m \u001b[38;5;21;01mnumpy\u001b[39;00m \u001b[38;5;28;01mas\u001b[39;00m \u001b[38;5;21;01mnp\u001b[39;00m\n\u001b[0;32m      2\u001b[0m \u001b[38;5;28;01mimport\u001b[39;00m \u001b[38;5;21;01mpandas\u001b[39;00m \u001b[38;5;28;01mas\u001b[39;00m \u001b[38;5;21;01mpd\u001b[39;00m\n\u001b[1;32m----> 3\u001b[0m \u001b[38;5;28;01mfrom\u001b[39;00m \u001b[38;5;21;01mpgmpy\u001b[39;00m\u001b[38;5;21;01m.\u001b[39;00m\u001b[38;5;21;01mmodels\u001b[39;00m \u001b[38;5;28;01mimport\u001b[39;00m BayesianModel\n\u001b[0;32m      4\u001b[0m \u001b[38;5;28;01mfrom\u001b[39;00m \u001b[38;5;21;01mpgmpy\u001b[39;00m\u001b[38;5;21;01m.\u001b[39;00m\u001b[38;5;21;01mestimators\u001b[39;00m \u001b[38;5;28;01mimport\u001b[39;00m MaximumLikelihoodEstimator, BayesianEstimator\n\u001b[0;32m      6\u001b[0m \u001b[38;5;66;03m# simulate observed data for 100 nodes\u001b[39;00m\n",
      "File \u001b[1;32mD:\\Anaconda\\lib\\site-packages\\pgmpy\\models\\__init__.py:1\u001b[0m, in \u001b[0;36m<module>\u001b[1;34m\u001b[0m\n\u001b[1;32m----> 1\u001b[0m \u001b[38;5;28;01mfrom\u001b[39;00m \u001b[38;5;21;01m.\u001b[39;00m\u001b[38;5;21;01mBayesianNetwork\u001b[39;00m \u001b[38;5;28;01mimport\u001b[39;00m BayesianNetwork\n\u001b[0;32m      2\u001b[0m \u001b[38;5;28;01mfrom\u001b[39;00m \u001b[38;5;21;01m.\u001b[39;00m\u001b[38;5;21;01mBayesianModel\u001b[39;00m \u001b[38;5;28;01mimport\u001b[39;00m BayesianModel\n\u001b[0;32m      3\u001b[0m \u001b[38;5;28;01mfrom\u001b[39;00m \u001b[38;5;21;01m.\u001b[39;00m\u001b[38;5;21;01mClusterGraph\u001b[39;00m \u001b[38;5;28;01mimport\u001b[39;00m ClusterGraph\n",
      "File \u001b[1;32mD:\\Anaconda\\lib\\site-packages\\pgmpy\\models\\BayesianNetwork.py:16\u001b[0m, in \u001b[0;36m<module>\u001b[1;34m\u001b[0m\n\u001b[0;32m     13\u001b[0m \u001b[38;5;28;01mfrom\u001b[39;00m \u001b[38;5;21;01mtqdm\u001b[39;00m\u001b[38;5;21;01m.\u001b[39;00m\u001b[38;5;21;01mauto\u001b[39;00m \u001b[38;5;28;01mimport\u001b[39;00m tqdm\n\u001b[0;32m     15\u001b[0m \u001b[38;5;28;01mfrom\u001b[39;00m \u001b[38;5;21;01mpgmpy\u001b[39;00m\u001b[38;5;21;01m.\u001b[39;00m\u001b[38;5;21;01mbase\u001b[39;00m \u001b[38;5;28;01mimport\u001b[39;00m DAG\n\u001b[1;32m---> 16\u001b[0m \u001b[38;5;28;01mfrom\u001b[39;00m \u001b[38;5;21;01mpgmpy\u001b[39;00m\u001b[38;5;21;01m.\u001b[39;00m\u001b[38;5;21;01mfactors\u001b[39;00m\u001b[38;5;21;01m.\u001b[39;00m\u001b[38;5;21;01mcontinuous\u001b[39;00m \u001b[38;5;28;01mimport\u001b[39;00m ContinuousFactor\n\u001b[0;32m     17\u001b[0m \u001b[38;5;28;01mfrom\u001b[39;00m \u001b[38;5;21;01mpgmpy\u001b[39;00m\u001b[38;5;21;01m.\u001b[39;00m\u001b[38;5;21;01mfactors\u001b[39;00m\u001b[38;5;21;01m.\u001b[39;00m\u001b[38;5;21;01mdiscrete\u001b[39;00m \u001b[38;5;28;01mimport\u001b[39;00m (\n\u001b[0;32m     18\u001b[0m     DiscreteFactor,\n\u001b[0;32m     19\u001b[0m     JointProbabilityDistribution,\n\u001b[0;32m     20\u001b[0m     TabularCPD,\n\u001b[0;32m     21\u001b[0m )\n\u001b[0;32m     22\u001b[0m \u001b[38;5;28;01mfrom\u001b[39;00m \u001b[38;5;21;01mpgmpy\u001b[39;00m\u001b[38;5;21;01m.\u001b[39;00m\u001b[38;5;21;01mmodels\u001b[39;00m\u001b[38;5;21;01m.\u001b[39;00m\u001b[38;5;21;01mMarkovNetwork\u001b[39;00m \u001b[38;5;28;01mimport\u001b[39;00m MarkovNetwork\n",
      "File \u001b[1;32mD:\\Anaconda\\lib\\site-packages\\pgmpy\\factors\\continuous\\__init__.py:1\u001b[0m, in \u001b[0;36m<module>\u001b[1;34m\u001b[0m\n\u001b[1;32m----> 1\u001b[0m \u001b[38;5;28;01mfrom\u001b[39;00m \u001b[38;5;21;01mpgmpy\u001b[39;00m\u001b[38;5;21;01m.\u001b[39;00m\u001b[38;5;21;01mfactors\u001b[39;00m\u001b[38;5;21;01m.\u001b[39;00m\u001b[38;5;21;01mdistributions\u001b[39;00m\u001b[38;5;21;01m.\u001b[39;00m\u001b[38;5;21;01mCanonicalDistribution\u001b[39;00m \u001b[38;5;28;01mimport\u001b[39;00m CanonicalDistribution\n\u001b[0;32m      2\u001b[0m \u001b[38;5;28;01mfrom\u001b[39;00m \u001b[38;5;21;01m.\u001b[39;00m\u001b[38;5;21;01mContinuousFactor\u001b[39;00m \u001b[38;5;28;01mimport\u001b[39;00m ContinuousFactor\n\u001b[0;32m      3\u001b[0m \u001b[38;5;28;01mfrom\u001b[39;00m \u001b[38;5;21;01m.\u001b[39;00m\u001b[38;5;21;01mLinearGaussianCPD\u001b[39;00m \u001b[38;5;28;01mimport\u001b[39;00m LinearGaussianCPD\n",
      "File \u001b[1;32mD:\\Anaconda\\lib\\site-packages\\pgmpy\\factors\\distributions\\__init__.py:2\u001b[0m, in \u001b[0;36m<module>\u001b[1;34m\u001b[0m\n\u001b[0;32m      1\u001b[0m \u001b[38;5;28;01mfrom\u001b[39;00m \u001b[38;5;21;01m.\u001b[39;00m\u001b[38;5;21;01mbase\u001b[39;00m \u001b[38;5;28;01mimport\u001b[39;00m BaseDistribution\n\u001b[1;32m----> 2\u001b[0m \u001b[38;5;28;01mfrom\u001b[39;00m \u001b[38;5;21;01m.\u001b[39;00m\u001b[38;5;21;01mCustomDistribution\u001b[39;00m \u001b[38;5;28;01mimport\u001b[39;00m CustomDistribution\n\u001b[0;32m      3\u001b[0m \u001b[38;5;28;01mfrom\u001b[39;00m \u001b[38;5;21;01m.\u001b[39;00m\u001b[38;5;21;01mGaussianDistribution\u001b[39;00m \u001b[38;5;28;01mimport\u001b[39;00m GaussianDistribution\n\u001b[0;32m      6\u001b[0m __all__ \u001b[38;5;241m=\u001b[39m [\u001b[38;5;124m\"\u001b[39m\u001b[38;5;124mBaseDistribution\u001b[39m\u001b[38;5;124m\"\u001b[39m, \u001b[38;5;124m\"\u001b[39m\u001b[38;5;124mCustomDistribution\u001b[39m\u001b[38;5;124m\"\u001b[39m, \u001b[38;5;124m\"\u001b[39m\u001b[38;5;124mGaussianDistribution\u001b[39m\u001b[38;5;124m\"\u001b[39m]\n",
      "File \u001b[1;32mD:\\Anaconda\\lib\\site-packages\\pgmpy\\factors\\distributions\\CustomDistribution.py:2\u001b[0m, in \u001b[0;36m<module>\u001b[1;34m\u001b[0m\n\u001b[0;32m      1\u001b[0m \u001b[38;5;28;01mimport\u001b[39;00m \u001b[38;5;21;01mnumpy\u001b[39;00m \u001b[38;5;28;01mas\u001b[39;00m \u001b[38;5;21;01mnp\u001b[39;00m\n\u001b[1;32m----> 2\u001b[0m \u001b[38;5;28;01mfrom\u001b[39;00m \u001b[38;5;21;01mscipy\u001b[39;00m \u001b[38;5;28;01mimport\u001b[39;00m integrate\n\u001b[0;32m      4\u001b[0m \u001b[38;5;28;01mfrom\u001b[39;00m \u001b[38;5;21;01mpgmpy\u001b[39;00m\u001b[38;5;21;01m.\u001b[39;00m\u001b[38;5;21;01mfactors\u001b[39;00m\u001b[38;5;21;01m.\u001b[39;00m\u001b[38;5;21;01mdistributions\u001b[39;00m \u001b[38;5;28;01mimport\u001b[39;00m BaseDistribution\n\u001b[0;32m      7\u001b[0m \u001b[38;5;28;01mclass\u001b[39;00m \u001b[38;5;21;01mCustomDistribution\u001b[39;00m(BaseDistribution):\n",
      "File \u001b[1;32mD:\\Anaconda\\lib\\site-packages\\scipy\\integrate\\__init__.py:91\u001b[0m, in \u001b[0;36m<module>\u001b[1;34m\u001b[0m\n\u001b[0;32m      1\u001b[0m \u001b[38;5;124;03m\"\"\"\u001b[39;00m\n\u001b[0;32m      2\u001b[0m \u001b[38;5;124;03m=============================================\u001b[39;00m\n\u001b[0;32m      3\u001b[0m \u001b[38;5;124;03mIntegration and ODEs (:mod:`scipy.integrate`)\u001b[39;00m\n\u001b[1;32m   (...)\u001b[0m\n\u001b[0;32m     87\u001b[0m \u001b[38;5;124;03m   solve_bvp     -- Solve a boundary value problem for a system of ODEs.\u001b[39;00m\n\u001b[0;32m     88\u001b[0m \u001b[38;5;124;03m\"\"\"\u001b[39;00m  \u001b[38;5;66;03m# noqa: E501\u001b[39;00m\n\u001b[1;32m---> 91\u001b[0m \u001b[38;5;28;01mfrom\u001b[39;00m \u001b[38;5;21;01m.\u001b[39;00m\u001b[38;5;21;01m_quadrature\u001b[39;00m \u001b[38;5;28;01mimport\u001b[39;00m \u001b[38;5;241m*\u001b[39m\n\u001b[0;32m     92\u001b[0m \u001b[38;5;28;01mfrom\u001b[39;00m \u001b[38;5;21;01m.\u001b[39;00m\u001b[38;5;21;01m_odepack_py\u001b[39;00m \u001b[38;5;28;01mimport\u001b[39;00m \u001b[38;5;241m*\u001b[39m\n\u001b[0;32m     93\u001b[0m \u001b[38;5;28;01mfrom\u001b[39;00m \u001b[38;5;21;01m.\u001b[39;00m\u001b[38;5;21;01m_quadpack_py\u001b[39;00m \u001b[38;5;28;01mimport\u001b[39;00m \u001b[38;5;241m*\u001b[39m\n",
      "File \u001b[1;32mD:\\Anaconda\\lib\\site-packages\\scipy\\integrate\\_quadrature.py:10\u001b[0m, in \u001b[0;36m<module>\u001b[1;34m\u001b[0m\n\u001b[0;32m      7\u001b[0m \u001b[38;5;28;01mimport\u001b[39;00m \u001b[38;5;21;01mwarnings\u001b[39;00m\n\u001b[0;32m      8\u001b[0m \u001b[38;5;28;01mfrom\u001b[39;00m \u001b[38;5;21;01mcollections\u001b[39;00m \u001b[38;5;28;01mimport\u001b[39;00m namedtuple\n\u001b[1;32m---> 10\u001b[0m \u001b[38;5;28;01mfrom\u001b[39;00m \u001b[38;5;21;01mscipy\u001b[39;00m\u001b[38;5;21;01m.\u001b[39;00m\u001b[38;5;21;01mspecial\u001b[39;00m \u001b[38;5;28;01mimport\u001b[39;00m roots_legendre\n\u001b[0;32m     11\u001b[0m \u001b[38;5;28;01mfrom\u001b[39;00m \u001b[38;5;21;01mscipy\u001b[39;00m\u001b[38;5;21;01m.\u001b[39;00m\u001b[38;5;21;01mspecial\u001b[39;00m \u001b[38;5;28;01mimport\u001b[39;00m gammaln, logsumexp\n\u001b[0;32m     12\u001b[0m \u001b[38;5;28;01mfrom\u001b[39;00m \u001b[38;5;21;01mscipy\u001b[39;00m\u001b[38;5;21;01m.\u001b[39;00m\u001b[38;5;21;01m_lib\u001b[39;00m\u001b[38;5;21;01m.\u001b[39;00m\u001b[38;5;21;01m_util\u001b[39;00m \u001b[38;5;28;01mimport\u001b[39;00m _rng_spawn\n",
      "File \u001b[1;32mD:\\Anaconda\\lib\\site-packages\\scipy\\special\\__init__.py:663\u001b[0m, in \u001b[0;36m<module>\u001b[1;34m\u001b[0m\n\u001b[0;32m      1\u001b[0m \u001b[38;5;124;03m\"\"\"\u001b[39;00m\n\u001b[0;32m      2\u001b[0m \u001b[38;5;124;03m========================================\u001b[39;00m\n\u001b[0;32m      3\u001b[0m \u001b[38;5;124;03mSpecial functions (:mod:`scipy.special`)\u001b[39;00m\n\u001b[1;32m   (...)\u001b[0m\n\u001b[0;32m    658\u001b[0m \n\u001b[0;32m    659\u001b[0m \u001b[38;5;124;03m\"\"\"\u001b[39;00m\n\u001b[0;32m    661\u001b[0m \u001b[38;5;28;01mfrom\u001b[39;00m \u001b[38;5;21;01m.\u001b[39;00m\u001b[38;5;21;01m_sf_error\u001b[39;00m \u001b[38;5;28;01mimport\u001b[39;00m SpecialFunctionWarning, SpecialFunctionError\n\u001b[1;32m--> 663\u001b[0m \u001b[38;5;28;01mfrom\u001b[39;00m \u001b[38;5;21;01m.\u001b[39;00m \u001b[38;5;28;01mimport\u001b[39;00m _ufuncs\n\u001b[0;32m    664\u001b[0m \u001b[38;5;28;01mfrom\u001b[39;00m \u001b[38;5;21;01m.\u001b[39;00m\u001b[38;5;21;01m_ufuncs\u001b[39;00m \u001b[38;5;28;01mimport\u001b[39;00m \u001b[38;5;241m*\u001b[39m\n\u001b[0;32m    666\u001b[0m \u001b[38;5;28;01mfrom\u001b[39;00m \u001b[38;5;21;01m.\u001b[39;00m \u001b[38;5;28;01mimport\u001b[39;00m _basic\n",
      "\u001b[1;31mImportError\u001b[0m: DLL load failed while importing _ufuncs: The specified module could not be found."
     ]
    }
   ],
   "source": [
    "import numpy as np\n",
    "import pandas as pd\n",
    "from pgmpy.models import BayesianModel\n",
    "from pgmpy.estimators import MaximumLikelihoodEstimator, BayesianEstimator\n",
    "\n",
    "# simulate observed data for 100 nodes\n",
    "nodes = np.arange(100)\n",
    "success_rates = np.random.rand(100)\n",
    "\n",
    "# construct a Bayesian network with the observed nodes as parents\n",
    "model = BayesianModel()\n",
    "model.add_nodes_from(nodes)\n",
    "for i in range(1, len(nodes)):\n",
    "    model.add_edge(i-1, i)\n",
    "\n",
    "# estimate the parameters of the model using Maximum Likelihood Estimation (MLE)\n",
    "estimator = MaximumLikelihoodEstimator(model, data=pd.DataFrame({'success_rate': success_rates}))\n",
    "cpds = estimator.get_parameters()\n",
    "\n",
    "# use Bayesian inference to estimate the success rates of unobserved nodes\n",
    "for i in range(100, 1000):\n",
    "    cpd = BayesianEstimator.estimate_cpd(model, i, estimator)\n",
    "    cpds.append(cpd)\n",
    "    evidence = {j: {'success_rate': success_rates[j]} for j in range(i-1, i-101, -1)}\n",
    "    query = model.predict_probability({'success_rate': None}, evidence=evidence)\n",
    "    success_rates[i] = query['success_rate'].values[0]\n",
    "\n",
    "# print the estimated success rates of the nodes\n",
    "print(success_rates)\n"
   ]
  },
  {
   "cell_type": "code",
   "execution_count": 3,
   "metadata": {},
   "outputs": [
    {
     "ename": "AttributeError",
     "evalue": "module 'scipy.sparse' has no attribute 'coo_array'",
     "output_type": "error",
     "traceback": [
      "\u001b[1;31m---------------------------------------------------------------------------\u001b[0m",
      "\u001b[1;31mAttributeError\u001b[0m                            Traceback (most recent call last)",
      "Input \u001b[1;32mIn [3]\u001b[0m, in \u001b[0;36m<cell line: 17>\u001b[1;34m()\u001b[0m\n\u001b[0;32m     14\u001b[0m     G\u001b[38;5;241m.\u001b[39madd_edge(i, i\u001b[38;5;241m+\u001b[39m\u001b[38;5;241m1\u001b[39m, weight\u001b[38;5;241m=\u001b[39msuccess_prob)\n\u001b[0;32m     16\u001b[0m \u001b[38;5;66;03m# Get the positions of the nodes for plotting\u001b[39;00m\n\u001b[1;32m---> 17\u001b[0m pos \u001b[38;5;241m=\u001b[39m \u001b[43mnx\u001b[49m\u001b[38;5;241;43m.\u001b[39;49m\u001b[43mspring_layout\u001b[49m\u001b[43m(\u001b[49m\u001b[43mG\u001b[49m\u001b[43m)\u001b[49m\n\u001b[0;32m     19\u001b[0m \u001b[38;5;66;03m# Get the success probabilities and edge weights for plotting\u001b[39;00m\n\u001b[0;32m     20\u001b[0m edge_weights \u001b[38;5;241m=\u001b[39m [G[u][v][\u001b[38;5;124m'\u001b[39m\u001b[38;5;124mweight\u001b[39m\u001b[38;5;124m'\u001b[39m] \u001b[38;5;28;01mfor\u001b[39;00m u, v \u001b[38;5;129;01min\u001b[39;00m G\u001b[38;5;241m.\u001b[39medges()]\n",
      "File \u001b[1;32m<class 'networkx.utils.decorators.argmap'> compilation 4:4\u001b[0m, in \u001b[0;36margmap_spring_layout_1\u001b[1;34m(G, k, pos, fixed, iterations, threshold, weight, scale, center, dim, seed)\u001b[0m\n\u001b[0;32m      2\u001b[0m \u001b[38;5;28;01mfrom\u001b[39;00m \u001b[38;5;21;01mos\u001b[39;00m\u001b[38;5;21;01m.\u001b[39;00m\u001b[38;5;21;01mpath\u001b[39;00m \u001b[38;5;28;01mimport\u001b[39;00m splitext\n\u001b[0;32m      3\u001b[0m \u001b[38;5;28;01mfrom\u001b[39;00m \u001b[38;5;21;01mcontextlib\u001b[39;00m \u001b[38;5;28;01mimport\u001b[39;00m contextmanager\n\u001b[1;32m----> 4\u001b[0m \u001b[38;5;28;01mfrom\u001b[39;00m \u001b[38;5;21;01mpathlib\u001b[39;00m \u001b[38;5;28;01mimport\u001b[39;00m Path\n\u001b[0;32m      6\u001b[0m \u001b[38;5;28;01mimport\u001b[39;00m \u001b[38;5;21;01mnetworkx\u001b[39;00m \u001b[38;5;28;01mas\u001b[39;00m \u001b[38;5;21;01mnx\u001b[39;00m\n\u001b[0;32m      7\u001b[0m \u001b[38;5;28;01mfrom\u001b[39;00m \u001b[38;5;21;01mnetworkx\u001b[39;00m\u001b[38;5;21;01m.\u001b[39;00m\u001b[38;5;21;01mutils\u001b[39;00m \u001b[38;5;28;01mimport\u001b[39;00m create_random_state, create_py_random_state\n",
      "File \u001b[1;32mD:\\Anaconda\\lib\\site-packages\\networkx\\drawing\\layout.py:476\u001b[0m, in \u001b[0;36mspring_layout\u001b[1;34m(G, k, pos, fixed, iterations, threshold, weight, scale, center, dim, seed)\u001b[0m\n\u001b[0;32m    474\u001b[0m \u001b[38;5;28;01mif\u001b[39;00m \u001b[38;5;28mlen\u001b[39m(G) \u001b[38;5;241m<\u001b[39m \u001b[38;5;241m500\u001b[39m:  \u001b[38;5;66;03m# sparse solver for large graphs\u001b[39;00m\n\u001b[0;32m    475\u001b[0m     \u001b[38;5;28;01mraise\u001b[39;00m \u001b[38;5;167;01mValueError\u001b[39;00m\n\u001b[1;32m--> 476\u001b[0m A \u001b[38;5;241m=\u001b[39m \u001b[43mnx\u001b[49m\u001b[38;5;241;43m.\u001b[39;49m\u001b[43mto_scipy_sparse_array\u001b[49m\u001b[43m(\u001b[49m\u001b[43mG\u001b[49m\u001b[43m,\u001b[49m\u001b[43m \u001b[49m\u001b[43mweight\u001b[49m\u001b[38;5;241;43m=\u001b[39;49m\u001b[43mweight\u001b[49m\u001b[43m,\u001b[49m\u001b[43m \u001b[49m\u001b[43mdtype\u001b[49m\u001b[38;5;241;43m=\u001b[39;49m\u001b[38;5;124;43m\"\u001b[39;49m\u001b[38;5;124;43mf\u001b[39;49m\u001b[38;5;124;43m\"\u001b[39;49m\u001b[43m)\u001b[49m\n\u001b[0;32m    477\u001b[0m \u001b[38;5;28;01mif\u001b[39;00m k \u001b[38;5;129;01mis\u001b[39;00m \u001b[38;5;28;01mNone\u001b[39;00m \u001b[38;5;129;01mand\u001b[39;00m fixed \u001b[38;5;129;01mis\u001b[39;00m \u001b[38;5;129;01mnot\u001b[39;00m \u001b[38;5;28;01mNone\u001b[39;00m:\n\u001b[0;32m    478\u001b[0m     \u001b[38;5;66;03m# We must adjust k by domain size for layouts not near 1x1\u001b[39;00m\n\u001b[0;32m    479\u001b[0m     nnodes, _ \u001b[38;5;241m=\u001b[39m A\u001b[38;5;241m.\u001b[39mshape\n",
      "File \u001b[1;32mD:\\Anaconda\\lib\\site-packages\\networkx\\convert_matrix.py:921\u001b[0m, in \u001b[0;36mto_scipy_sparse_array\u001b[1;34m(G, nodelist, dtype, weight, format)\u001b[0m\n\u001b[0;32m    919\u001b[0m         r \u001b[38;5;241m+\u001b[39m\u001b[38;5;241m=\u001b[39m diag_index\n\u001b[0;32m    920\u001b[0m         c \u001b[38;5;241m+\u001b[39m\u001b[38;5;241m=\u001b[39m diag_index\n\u001b[1;32m--> 921\u001b[0m     A \u001b[38;5;241m=\u001b[39m \u001b[43msp\u001b[49m\u001b[38;5;241;43m.\u001b[39;49m\u001b[43msparse\u001b[49m\u001b[38;5;241;43m.\u001b[39;49m\u001b[43mcoo_array\u001b[49m((d, (r, c)), shape\u001b[38;5;241m=\u001b[39m(nlen, nlen), dtype\u001b[38;5;241m=\u001b[39mdtype)\n\u001b[0;32m    922\u001b[0m \u001b[38;5;28;01mtry\u001b[39;00m:\n\u001b[0;32m    923\u001b[0m     \u001b[38;5;28;01mreturn\u001b[39;00m A\u001b[38;5;241m.\u001b[39masformat(\u001b[38;5;28mformat\u001b[39m)\n",
      "\u001b[1;31mAttributeError\u001b[0m: module 'scipy.sparse' has no attribute 'coo_array'"
     ]
    }
   ],
   "source": [
    "import networkx as nx\n",
    "import matplotlib.pyplot as plt\n",
    "\n",
    "# Create a graph\n",
    "G = nx.Graph()\n",
    "\n",
    "# Add nodes to the graph\n",
    "for i in range(1000):\n",
    "    G.add_node(i)\n",
    "\n",
    "# Add edges (roads) to the graph\n",
    "for i in range(999):\n",
    "    success_prob = 0.5  # replace with your simulated success rate for this road\n",
    "    G.add_edge(i, i+1, weight=success_prob)\n",
    "\n",
    "# Get the positions of the nodes for plotting\n",
    "pos = nx.spring_layout(G)\n",
    "\n",
    "# Get the success probabilities and edge weights for plotting\n",
    "edge_weights = [G[u][v]['weight'] for u, v in G.edges()]\n",
    "success_probs = [(1 - w, w, 0.0) for w in edge_weights]\n",
    "\n",
    "# Plot the graph\n",
    "nx.draw(G, pos=pos, edge_color=success_probs, width=2, edge_cmap=plt.cm.RdYlGn_r)\n",
    "plt.show()\n"
   ]
  },
  {
   "cell_type": "markdown",
   "metadata": {},
   "source": [
    "Next, let's assume we have some weather data, such as temperature and precipitation, for each day in our dataset:"
   ]
  },
  {
   "cell_type": "code",
   "execution_count": 2,
   "metadata": {},
   "outputs": [],
   "source": [
    "import pandas as pd \n",
    "# Generate random weather data\n",
    "dates = pd.date_range(start='2020-01-01', end='2022-12-31', freq='D')\n",
    "weather_data = pd.DataFrame({\n",
    "    'date': dates,\n",
    "    'temperature': np.random.normal(loc=20, scale=5, size=len(dates)),\n",
    "    'precipitation': np.random.normal(loc=0, scale=1, size=len(dates)),\n",
    "})"
   ]
  },
  {
   "cell_type": "markdown",
   "metadata": {},
   "source": [
    "We can now construct a Bayesian network to model the relationships between the various factors that affect the probability of successful arrival. \n",
    "* We'll use the PyMC3 library to define and sample from the posterior distribution of the network parameters:"
   ]
  },
  {
   "cell_type": "code",
   "execution_count": 4,
   "metadata": {},
   "outputs": [],
   "source": [
    "# !pip install pymc3"
   ]
  },
  {
   "cell_type": "markdown",
   "metadata": {},
   "source": [
    "* This model assumes that the probability of successful arrival for each road segment depends on the temperature and precipitation on that day.\n",
    "* We've defined priors for the conditional probabilities of success, temperature, and precipitation, and used these to calculate the overall probability of success for each road segment. \n",
    "* We then define the likelihood function using the observed success flags, and use PyMC3 to sample from the posterior distribution of the network parameters."
   ]
  },
  {
   "cell_type": "code",
   "execution_count": 5,
   "metadata": {},
   "outputs": [
    {
     "name": "stderr",
     "output_type": "stream",
     "text": [
      "WARNING (theano.configdefaults): g++ not available, if using conda: `conda install m2w64-toolchain`\n",
      "WARNING (theano.configdefaults): g++ not detected ! Theano will be unable to execute optimized C-implementations (for both CPU and GPU) and will default to Python implementations. Performance will be severely degraded. To remove this warning, set Theano flags cxx to an empty string.\n",
      "WARNING (theano.tensor.blas): Using NumPy C-API based implementation for BLAS functions.\n"
     ]
    },
    {
     "ename": "FileNotFoundError",
     "evalue": "[Errno 2] No such file or directory: 'd:\\\\anaconda\\\\lib\\\\site-packages\\\\xarray-0.20.1.dist-info\\\\METADATA'",
     "output_type": "error",
     "traceback": [
      "\u001b[1;31m---------------------------------------------------------------------------\u001b[0m",
      "\u001b[1;31mAttributeError\u001b[0m                            Traceback (most recent call last)",
      "File \u001b[1;32md:\\Anaconda\\lib\\site-packages\\pkg_resources\\__init__.py:3024\u001b[0m, in \u001b[0;36mDistInfoDistribution._dep_map\u001b[1;34m(self)\u001b[0m\n\u001b[0;32m   3023\u001b[0m \u001b[39mtry\u001b[39;00m:\n\u001b[1;32m-> 3024\u001b[0m     \u001b[39mreturn\u001b[39;00m \u001b[39mself\u001b[39;49m\u001b[39m.\u001b[39;49m__dep_map\n\u001b[0;32m   3025\u001b[0m \u001b[39mexcept\u001b[39;00m \u001b[39mAttributeError\u001b[39;00m:\n",
      "File \u001b[1;32md:\\Anaconda\\lib\\site-packages\\pkg_resources\\__init__.py:2821\u001b[0m, in \u001b[0;36mDistribution.__getattr__\u001b[1;34m(self, attr)\u001b[0m\n\u001b[0;32m   2820\u001b[0m \u001b[39mif\u001b[39;00m attr\u001b[39m.\u001b[39mstartswith(\u001b[39m'\u001b[39m\u001b[39m_\u001b[39m\u001b[39m'\u001b[39m):\n\u001b[1;32m-> 2821\u001b[0m     \u001b[39mraise\u001b[39;00m \u001b[39mAttributeError\u001b[39;00m(attr)\n\u001b[0;32m   2822\u001b[0m \u001b[39mreturn\u001b[39;00m \u001b[39mgetattr\u001b[39m(\u001b[39mself\u001b[39m\u001b[39m.\u001b[39m_provider, attr)\n",
      "\u001b[1;31mAttributeError\u001b[0m: _DistInfoDistribution__dep_map",
      "\nDuring handling of the above exception, another exception occurred:\n",
      "\u001b[1;31mAttributeError\u001b[0m                            Traceback (most recent call last)",
      "File \u001b[1;32md:\\Anaconda\\lib\\site-packages\\pkg_resources\\__init__.py:3015\u001b[0m, in \u001b[0;36mDistInfoDistribution._parsed_pkg_info\u001b[1;34m(self)\u001b[0m\n\u001b[0;32m   3014\u001b[0m \u001b[39mtry\u001b[39;00m:\n\u001b[1;32m-> 3015\u001b[0m     \u001b[39mreturn\u001b[39;00m \u001b[39mself\u001b[39;49m\u001b[39m.\u001b[39;49m_pkg_info\n\u001b[0;32m   3016\u001b[0m \u001b[39mexcept\u001b[39;00m \u001b[39mAttributeError\u001b[39;00m:\n",
      "File \u001b[1;32md:\\Anaconda\\lib\\site-packages\\pkg_resources\\__init__.py:2821\u001b[0m, in \u001b[0;36mDistribution.__getattr__\u001b[1;34m(self, attr)\u001b[0m\n\u001b[0;32m   2820\u001b[0m \u001b[39mif\u001b[39;00m attr\u001b[39m.\u001b[39mstartswith(\u001b[39m'\u001b[39m\u001b[39m_\u001b[39m\u001b[39m'\u001b[39m):\n\u001b[1;32m-> 2821\u001b[0m     \u001b[39mraise\u001b[39;00m \u001b[39mAttributeError\u001b[39;00m(attr)\n\u001b[0;32m   2822\u001b[0m \u001b[39mreturn\u001b[39;00m \u001b[39mgetattr\u001b[39m(\u001b[39mself\u001b[39m\u001b[39m.\u001b[39m_provider, attr)\n",
      "\u001b[1;31mAttributeError\u001b[0m: _pkg_info",
      "\nDuring handling of the above exception, another exception occurred:\n",
      "\u001b[1;31mFileNotFoundError\u001b[0m                         Traceback (most recent call last)",
      "\u001b[1;32md:\\Yalin\\Projects\\Spatial-Trajactory-Optimization\\Trajactory-Optimization.ipynb Cell 7\u001b[0m in \u001b[0;36m<cell line: 1>\u001b[1;34m()\u001b[0m\n\u001b[1;32m----> <a href='vscode-notebook-cell:/d%3A/Yalin/Projects/Spatial-Trajactory-Optimization/Trajactory-Optimization.ipynb#W4sZmlsZQ%3D%3D?line=0'>1</a>\u001b[0m \u001b[39mimport\u001b[39;00m \u001b[39mpymc3\u001b[39;00m \u001b[39mas\u001b[39;00m \u001b[39mpm\u001b[39;00m\n\u001b[0;32m      <a href='vscode-notebook-cell:/d%3A/Yalin/Projects/Spatial-Trajactory-Optimization/Trajactory-Optimization.ipynb#W4sZmlsZQ%3D%3D?line=2'>3</a>\u001b[0m \u001b[39m# Define the model\u001b[39;00m\n\u001b[0;32m      <a href='vscode-notebook-cell:/d%3A/Yalin/Projects/Spatial-Trajactory-Optimization/Trajactory-Optimization.ipynb#W4sZmlsZQ%3D%3D?line=3'>4</a>\u001b[0m \u001b[39mwith\u001b[39;00m pm\u001b[39m.\u001b[39mModel() \u001b[39mas\u001b[39;00m model:\n\u001b[0;32m      <a href='vscode-notebook-cell:/d%3A/Yalin/Projects/Spatial-Trajactory-Optimization/Trajactory-Optimization.ipynb#W4sZmlsZQ%3D%3D?line=4'>5</a>\u001b[0m     \u001b[39m# Define priors for the conditional probabilities\u001b[39;00m\n",
      "File \u001b[1;32md:\\Anaconda\\lib\\site-packages\\pymc3\\__init__.py:115\u001b[0m, in \u001b[0;36m<module>\u001b[1;34m\u001b[0m\n\u001b[0;32m    112\u001b[0m __set_compiler_flags()\n\u001b[0;32m    113\u001b[0m _hotfix_theano_printing()\n\u001b[1;32m--> 115\u001b[0m \u001b[39mfrom\u001b[39;00m \u001b[39mpymc3\u001b[39;00m \u001b[39mimport\u001b[39;00m gp, ode, sampling\n\u001b[0;32m    116\u001b[0m \u001b[39mfrom\u001b[39;00m \u001b[39mpymc3\u001b[39;00m\u001b[39m.\u001b[39;00m\u001b[39mbackends\u001b[39;00m \u001b[39mimport\u001b[39;00m load_trace, save_trace\n\u001b[0;32m    117\u001b[0m \u001b[39mfrom\u001b[39;00m \u001b[39mpymc3\u001b[39;00m\u001b[39m.\u001b[39;00m\u001b[39mbackends\u001b[39;00m\u001b[39m.\u001b[39;00m\u001b[39mtracetab\u001b[39;00m \u001b[39mimport\u001b[39;00m \u001b[39m*\u001b[39m\n",
      "File \u001b[1;32md:\\Anaconda\\lib\\site-packages\\pymc3\\gp\\__init__.py:16\u001b[0m, in \u001b[0;36m<module>\u001b[1;34m\u001b[0m\n\u001b[0;32m      1\u001b[0m \u001b[39m#   Copyright 2020 The PyMC Developers\u001b[39;00m\n\u001b[0;32m      2\u001b[0m \u001b[39m#\u001b[39;00m\n\u001b[0;32m      3\u001b[0m \u001b[39m#   Licensed under the Apache License, Version 2.0 (the \"License\");\u001b[39;00m\n\u001b[1;32m   (...)\u001b[0m\n\u001b[0;32m     12\u001b[0m \u001b[39m#   See the License for the specific language governing permissions and\u001b[39;00m\n\u001b[0;32m     13\u001b[0m \u001b[39m#   limitations under the License.\u001b[39;00m\n\u001b[0;32m     15\u001b[0m \u001b[39mfrom\u001b[39;00m \u001b[39mpymc3\u001b[39;00m\u001b[39m.\u001b[39;00m\u001b[39mgp\u001b[39;00m \u001b[39mimport\u001b[39;00m cov, mean, util\n\u001b[1;32m---> 16\u001b[0m \u001b[39mfrom\u001b[39;00m \u001b[39mpymc3\u001b[39;00m\u001b[39m.\u001b[39;00m\u001b[39mgp\u001b[39;00m\u001b[39m.\u001b[39;00m\u001b[39mgp\u001b[39;00m \u001b[39mimport\u001b[39;00m TP, Latent, LatentKron, Marginal, MarginalKron, MarginalSparse\n",
      "File \u001b[1;32md:\\Anaconda\\lib\\site-packages\\pymc3\\gp\\gp.py:25\u001b[0m, in \u001b[0;36m<module>\u001b[1;34m\u001b[0m\n\u001b[0;32m     21\u001b[0m \u001b[39mfrom\u001b[39;00m \u001b[39mtheano\u001b[39;00m\u001b[39m.\u001b[39;00m\u001b[39mtensor\u001b[39;00m\u001b[39m.\u001b[39;00m\u001b[39mnlinalg\u001b[39;00m \u001b[39mimport\u001b[39;00m eigh\n\u001b[0;32m     23\u001b[0m \u001b[39mimport\u001b[39;00m \u001b[39mpymc3\u001b[39;00m \u001b[39mas\u001b[39;00m \u001b[39mpm\u001b[39;00m\n\u001b[1;32m---> 25\u001b[0m \u001b[39mfrom\u001b[39;00m \u001b[39mpymc3\u001b[39;00m\u001b[39m.\u001b[39;00m\u001b[39mdistributions\u001b[39;00m \u001b[39mimport\u001b[39;00m draw_values\n\u001b[0;32m     26\u001b[0m \u001b[39mfrom\u001b[39;00m \u001b[39mpymc3\u001b[39;00m\u001b[39m.\u001b[39;00m\u001b[39mgp\u001b[39;00m\u001b[39m.\u001b[39;00m\u001b[39mcov\u001b[39;00m \u001b[39mimport\u001b[39;00m Constant, Covariance\n\u001b[0;32m     27\u001b[0m \u001b[39mfrom\u001b[39;00m \u001b[39mpymc3\u001b[39;00m\u001b[39m.\u001b[39;00m\u001b[39mgp\u001b[39;00m\u001b[39m.\u001b[39;00m\u001b[39mmean\u001b[39;00m \u001b[39mimport\u001b[39;00m Zero\n",
      "File \u001b[1;32md:\\Anaconda\\lib\\site-packages\\pymc3\\distributions\\__init__.py:15\u001b[0m, in \u001b[0;36m<module>\u001b[1;34m\u001b[0m\n\u001b[0;32m      1\u001b[0m \u001b[39m#   Copyright 2020 The PyMC Developers\u001b[39;00m\n\u001b[0;32m      2\u001b[0m \u001b[39m#\u001b[39;00m\n\u001b[0;32m      3\u001b[0m \u001b[39m#   Licensed under the Apache License, Version 2.0 (the \"License\");\u001b[39;00m\n\u001b[1;32m   (...)\u001b[0m\n\u001b[0;32m     12\u001b[0m \u001b[39m#   See the License for the specific language governing permissions and\u001b[39;00m\n\u001b[0;32m     13\u001b[0m \u001b[39m#   limitations under the License.\u001b[39;00m\n\u001b[1;32m---> 15\u001b[0m \u001b[39mfrom\u001b[39;00m \u001b[39mpymc3\u001b[39;00m\u001b[39m.\u001b[39;00m\u001b[39mdistributions\u001b[39;00m \u001b[39mimport\u001b[39;00m shape_utils, timeseries, transforms\n\u001b[0;32m     16\u001b[0m \u001b[39mfrom\u001b[39;00m \u001b[39mpymc3\u001b[39;00m\u001b[39m.\u001b[39;00m\u001b[39mdistributions\u001b[39;00m\u001b[39m.\u001b[39;00m\u001b[39mbart\u001b[39;00m \u001b[39mimport\u001b[39;00m BART\n\u001b[0;32m     17\u001b[0m \u001b[39mfrom\u001b[39;00m \u001b[39mpymc3\u001b[39;00m\u001b[39m.\u001b[39;00m\u001b[39mdistributions\u001b[39;00m\u001b[39m.\u001b[39;00m\u001b[39mbound\u001b[39;00m \u001b[39mimport\u001b[39;00m Bound\n",
      "File \u001b[1;32md:\\Anaconda\\lib\\site-packages\\pymc3\\distributions\\timeseries.py:21\u001b[0m, in \u001b[0;36m<module>\u001b[1;34m\u001b[0m\n\u001b[0;32m     18\u001b[0m \u001b[39mfrom\u001b[39;00m \u001b[39mscipy\u001b[39;00m \u001b[39mimport\u001b[39;00m stats\n\u001b[0;32m     19\u001b[0m \u001b[39mfrom\u001b[39;00m \u001b[39mtheano\u001b[39;00m \u001b[39mimport\u001b[39;00m scan\n\u001b[1;32m---> 21\u001b[0m \u001b[39mfrom\u001b[39;00m \u001b[39mpymc3\u001b[39;00m\u001b[39m.\u001b[39;00m\u001b[39mdistributions\u001b[39;00m \u001b[39mimport\u001b[39;00m distribution, multivariate\n\u001b[0;32m     22\u001b[0m \u001b[39mfrom\u001b[39;00m \u001b[39mpymc3\u001b[39;00m\u001b[39m.\u001b[39;00m\u001b[39mdistributions\u001b[39;00m\u001b[39m.\u001b[39;00m\u001b[39mcontinuous\u001b[39;00m \u001b[39mimport\u001b[39;00m Flat, Normal, get_tau_sigma\n\u001b[0;32m     23\u001b[0m \u001b[39mfrom\u001b[39;00m \u001b[39mpymc3\u001b[39;00m\u001b[39m.\u001b[39;00m\u001b[39mdistributions\u001b[39;00m\u001b[39m.\u001b[39;00m\u001b[39mshape_utils\u001b[39;00m \u001b[39mimport\u001b[39;00m to_tuple\n",
      "File \u001b[1;32md:\\Anaconda\\lib\\site-packages\\pymc3\\distributions\\distribution.py:45\u001b[0m, in \u001b[0;36m<module>\u001b[1;34m\u001b[0m\n\u001b[0;32m     38\u001b[0m \u001b[39mfrom\u001b[39;00m \u001b[39mtheano\u001b[39;00m \u001b[39mimport\u001b[39;00m function\n\u001b[0;32m     40\u001b[0m \u001b[39mfrom\u001b[39;00m \u001b[39mpymc3\u001b[39;00m\u001b[39m.\u001b[39;00m\u001b[39mdistributions\u001b[39;00m\u001b[39m.\u001b[39;00m\u001b[39mshape_utils\u001b[39;00m \u001b[39mimport\u001b[39;00m (\n\u001b[0;32m     41\u001b[0m     broadcast_dist_samples_shape,\n\u001b[0;32m     42\u001b[0m     get_broadcastable_dist_samples,\n\u001b[0;32m     43\u001b[0m     to_tuple,\n\u001b[0;32m     44\u001b[0m )\n\u001b[1;32m---> 45\u001b[0m \u001b[39mfrom\u001b[39;00m \u001b[39mpymc3\u001b[39;00m\u001b[39m.\u001b[39;00m\u001b[39mmodel\u001b[39;00m \u001b[39mimport\u001b[39;00m (\n\u001b[0;32m     46\u001b[0m     ContextMeta,\n\u001b[0;32m     47\u001b[0m     FreeRV,\n\u001b[0;32m     48\u001b[0m     Model,\n\u001b[0;32m     49\u001b[0m     MultiObservedRV,\n\u001b[0;32m     50\u001b[0m     ObservedRV,\n\u001b[0;32m     51\u001b[0m     build_named_node_tree,\n\u001b[0;32m     52\u001b[0m )\n\u001b[0;32m     53\u001b[0m \u001b[39mfrom\u001b[39;00m \u001b[39mpymc3\u001b[39;00m\u001b[39m.\u001b[39;00m\u001b[39mutil\u001b[39;00m \u001b[39mimport\u001b[39;00m get_repr_for_variable, get_var_name, hash_key\n\u001b[0;32m     54\u001b[0m \u001b[39mfrom\u001b[39;00m \u001b[39mpymc3\u001b[39;00m\u001b[39m.\u001b[39;00m\u001b[39mvartypes\u001b[39;00m \u001b[39mimport\u001b[39;00m string_types, theano_constant\n",
      "File \u001b[1;32md:\\Anaconda\\lib\\site-packages\\pymc3\\model.py:38\u001b[0m, in \u001b[0;36m<module>\u001b[1;34m\u001b[0m\n\u001b[0;32m     34\u001b[0m \u001b[39mfrom\u001b[39;00m \u001b[39mtheano\u001b[39;00m\u001b[39m.\u001b[39;00m\u001b[39mtensor\u001b[39;00m\u001b[39m.\u001b[39;00m\u001b[39mvar\u001b[39;00m \u001b[39mimport\u001b[39;00m TensorVariable\n\u001b[0;32m     36\u001b[0m \u001b[39mimport\u001b[39;00m \u001b[39mpymc3\u001b[39;00m \u001b[39mas\u001b[39;00m \u001b[39mpm\u001b[39;00m\n\u001b[1;32m---> 38\u001b[0m \u001b[39mfrom\u001b[39;00m \u001b[39mpymc3\u001b[39;00m\u001b[39m.\u001b[39;00m\u001b[39mblocking\u001b[39;00m \u001b[39mimport\u001b[39;00m ArrayOrdering, DictToArrayBijection\n\u001b[0;32m     39\u001b[0m \u001b[39mfrom\u001b[39;00m \u001b[39mpymc3\u001b[39;00m\u001b[39m.\u001b[39;00m\u001b[39mexceptions\u001b[39;00m \u001b[39mimport\u001b[39;00m ImputationWarning\n\u001b[0;32m     40\u001b[0m \u001b[39mfrom\u001b[39;00m \u001b[39mpymc3\u001b[39;00m\u001b[39m.\u001b[39;00m\u001b[39mtheanof\u001b[39;00m \u001b[39mimport\u001b[39;00m floatX, generator, gradient, hessian, inputvars\n",
      "File \u001b[1;32md:\\Anaconda\\lib\\site-packages\\pymc3\\blocking.py:25\u001b[0m, in \u001b[0;36m<module>\u001b[1;34m\u001b[0m\n\u001b[0;32m     21\u001b[0m \u001b[39mimport\u001b[39;00m \u001b[39mcopy\u001b[39;00m\n\u001b[0;32m     23\u001b[0m \u001b[39mimport\u001b[39;00m \u001b[39mnumpy\u001b[39;00m \u001b[39mas\u001b[39;00m \u001b[39mnp\u001b[39;00m\n\u001b[1;32m---> 25\u001b[0m \u001b[39mfrom\u001b[39;00m \u001b[39mpymc3\u001b[39;00m\u001b[39m.\u001b[39;00m\u001b[39mutil\u001b[39;00m \u001b[39mimport\u001b[39;00m get_var_name\n\u001b[0;32m     27\u001b[0m __all__ \u001b[39m=\u001b[39m [\u001b[39m\"\u001b[39m\u001b[39mArrayOrdering\u001b[39m\u001b[39m\"\u001b[39m, \u001b[39m\"\u001b[39m\u001b[39mDictToArrayBijection\u001b[39m\u001b[39m\"\u001b[39m, \u001b[39m\"\u001b[39m\u001b[39mDictToVarBijection\u001b[39m\u001b[39m\"\u001b[39m]\n\u001b[0;32m     29\u001b[0m VarMap \u001b[39m=\u001b[39m collections\u001b[39m.\u001b[39mnamedtuple(\u001b[39m\"\u001b[39m\u001b[39mVarMap\u001b[39m\u001b[39m\"\u001b[39m, \u001b[39m\"\u001b[39m\u001b[39mvar, slc, shp, dtyp\u001b[39m\u001b[39m\"\u001b[39m)\n",
      "File \u001b[1;32md:\\Anaconda\\lib\\site-packages\\pymc3\\util.py:21\u001b[0m, in \u001b[0;36m<module>\u001b[1;34m\u001b[0m\n\u001b[0;32m     17\u001b[0m \u001b[39mimport\u001b[39;00m \u001b[39mwarnings\u001b[39;00m\n\u001b[0;32m     19\u001b[0m \u001b[39mfrom\u001b[39;00m \u001b[39mtyping\u001b[39;00m \u001b[39mimport\u001b[39;00m Dict, List, Tuple, Union\n\u001b[1;32m---> 21\u001b[0m \u001b[39mimport\u001b[39;00m \u001b[39marviz\u001b[39;00m\n\u001b[0;32m     22\u001b[0m \u001b[39mimport\u001b[39;00m \u001b[39mdill\u001b[39;00m\n\u001b[0;32m     23\u001b[0m \u001b[39mimport\u001b[39;00m \u001b[39mnumpy\u001b[39;00m \u001b[39mas\u001b[39;00m \u001b[39mnp\u001b[39;00m\n",
      "File \u001b[1;32md:\\Anaconda\\lib\\site-packages\\arviz\\__init__.py:32\u001b[0m, in \u001b[0;36m<module>\u001b[1;34m\u001b[0m\n\u001b[0;32m     26\u001b[0m         \u001b[39msuper\u001b[39m()\u001b[39m.\u001b[39m_log(level, msg, \u001b[39m*\u001b[39margs, \u001b[39m*\u001b[39m\u001b[39m*\u001b[39mkwargs)\n\u001b[0;32m     29\u001b[0m _log \u001b[39m=\u001b[39m Logger(\u001b[39m\"\u001b[39m\u001b[39marviz\u001b[39m\u001b[39m\"\u001b[39m)\n\u001b[1;32m---> 32\u001b[0m \u001b[39mfrom\u001b[39;00m \u001b[39m.\u001b[39;00m\u001b[39mdata\u001b[39;00m \u001b[39mimport\u001b[39;00m \u001b[39m*\u001b[39m\n\u001b[0;32m     33\u001b[0m \u001b[39mfrom\u001b[39;00m \u001b[39m.\u001b[39;00m\u001b[39mplots\u001b[39;00m \u001b[39mimport\u001b[39;00m \u001b[39m*\u001b[39m\n\u001b[0;32m     34\u001b[0m \u001b[39mfrom\u001b[39;00m \u001b[39m.\u001b[39;00m\u001b[39mplots\u001b[39;00m\u001b[39m.\u001b[39;00m\u001b[39mbackends\u001b[39;00m \u001b[39mimport\u001b[39;00m \u001b[39m*\u001b[39m\n",
      "File \u001b[1;32md:\\Anaconda\\lib\\site-packages\\arviz\\data\\__init__.py:3\u001b[0m, in \u001b[0;36m<module>\u001b[1;34m\u001b[0m\n\u001b[0;32m      1\u001b[0m \u001b[39m\"\"\"Code for loading and manipulating data structures.\"\"\"\u001b[39;00m\n\u001b[0;32m      2\u001b[0m \u001b[39mfrom\u001b[39;00m \u001b[39m.\u001b[39;00m\u001b[39mbase\u001b[39;00m \u001b[39mimport\u001b[39;00m CoordSpec, DimSpec, dict_to_dataset, numpy_to_data_array\n\u001b[1;32m----> 3\u001b[0m \u001b[39mfrom\u001b[39;00m \u001b[39m.\u001b[39;00m\u001b[39mconverters\u001b[39;00m \u001b[39mimport\u001b[39;00m convert_to_dataset, convert_to_inference_data\n\u001b[0;32m      4\u001b[0m \u001b[39mfrom\u001b[39;00m \u001b[39m.\u001b[39;00m\u001b[39mdatasets\u001b[39;00m \u001b[39mimport\u001b[39;00m clear_data_home, list_datasets, load_arviz_data\n\u001b[0;32m      5\u001b[0m \u001b[39mfrom\u001b[39;00m \u001b[39m.\u001b[39;00m\u001b[39minference_data\u001b[39;00m \u001b[39mimport\u001b[39;00m InferenceData, concat\n",
      "File \u001b[1;32md:\\Anaconda\\lib\\site-packages\\arviz\\data\\converters.py:11\u001b[0m, in \u001b[0;36m<module>\u001b[1;34m\u001b[0m\n\u001b[0;32m      9\u001b[0m \u001b[39mfrom\u001b[39;00m \u001b[39m.\u001b[39;00m\u001b[39mio_emcee\u001b[39;00m \u001b[39mimport\u001b[39;00m from_emcee\n\u001b[0;32m     10\u001b[0m \u001b[39mfrom\u001b[39;00m \u001b[39m.\u001b[39;00m\u001b[39mio_numpyro\u001b[39;00m \u001b[39mimport\u001b[39;00m from_numpyro\n\u001b[1;32m---> 11\u001b[0m \u001b[39mfrom\u001b[39;00m \u001b[39m.\u001b[39;00m\u001b[39mio_pymc3\u001b[39;00m \u001b[39mimport\u001b[39;00m from_pymc3\n\u001b[0;32m     12\u001b[0m \u001b[39mfrom\u001b[39;00m \u001b[39m.\u001b[39;00m\u001b[39mio_pyro\u001b[39;00m \u001b[39mimport\u001b[39;00m from_pyro\n\u001b[0;32m     13\u001b[0m \u001b[39mfrom\u001b[39;00m \u001b[39m.\u001b[39;00m\u001b[39mio_pystan\u001b[39;00m \u001b[39mimport\u001b[39;00m from_pystan\n",
      "File \u001b[1;32md:\\Anaconda\\lib\\site-packages\\arviz\\data\\io_pymc3.py:9\u001b[0m, in \u001b[0;36m<module>\u001b[1;34m\u001b[0m\n\u001b[0;32m      6\u001b[0m __all__ \u001b[39m=\u001b[39m [\u001b[39m\"\u001b[39m\u001b[39mfrom_pymc3\u001b[39m\u001b[39m\"\u001b[39m, \u001b[39m\"\u001b[39m\u001b[39mfrom_pymc3_predictions\u001b[39m\u001b[39m\"\u001b[39m]\n\u001b[0;32m      8\u001b[0m \u001b[39mtry\u001b[39;00m:\n\u001b[1;32m----> 9\u001b[0m     pymc3_version \u001b[39m=\u001b[39m pkg_resources\u001b[39m.\u001b[39;49mget_distribution(\u001b[39m\"\u001b[39;49m\u001b[39mpymc3\u001b[39;49m\u001b[39m\"\u001b[39;49m)\u001b[39m.\u001b[39mversion\n\u001b[0;32m     10\u001b[0m     PYMC3_V4 \u001b[39m=\u001b[39m packaging\u001b[39m.\u001b[39mversion\u001b[39m.\u001b[39mparse(pymc3_version) \u001b[39m>\u001b[39m\u001b[39m=\u001b[39m packaging\u001b[39m.\u001b[39mversion\u001b[39m.\u001b[39mparse(\u001b[39m\"\u001b[39m\u001b[39m4.0\u001b[39m\u001b[39m\"\u001b[39m)\n\u001b[0;32m     11\u001b[0m \u001b[39mexcept\u001b[39;00m pkg_resources\u001b[39m.\u001b[39mDistributionNotFound:\n",
      "File \u001b[1;32md:\\Anaconda\\lib\\site-packages\\pkg_resources\\__init__.py:477\u001b[0m, in \u001b[0;36mget_distribution\u001b[1;34m(dist)\u001b[0m\n\u001b[0;32m    475\u001b[0m     dist \u001b[39m=\u001b[39m Requirement\u001b[39m.\u001b[39mparse(dist)\n\u001b[0;32m    476\u001b[0m \u001b[39mif\u001b[39;00m \u001b[39misinstance\u001b[39m(dist, Requirement):\n\u001b[1;32m--> 477\u001b[0m     dist \u001b[39m=\u001b[39m get_provider(dist)\n\u001b[0;32m    478\u001b[0m \u001b[39mif\u001b[39;00m \u001b[39mnot\u001b[39;00m \u001b[39misinstance\u001b[39m(dist, Distribution):\n\u001b[0;32m    479\u001b[0m     \u001b[39mraise\u001b[39;00m \u001b[39mTypeError\u001b[39;00m(\u001b[39m\"\u001b[39m\u001b[39mExpected string, Requirement, or Distribution\u001b[39m\u001b[39m\"\u001b[39m, dist)\n",
      "File \u001b[1;32md:\\Anaconda\\lib\\site-packages\\pkg_resources\\__init__.py:353\u001b[0m, in \u001b[0;36mget_provider\u001b[1;34m(moduleOrReq)\u001b[0m\n\u001b[0;32m    351\u001b[0m \u001b[39m\u001b[39m\u001b[39m\"\"\"Return an IResourceProvider for the named module or requirement\"\"\"\u001b[39;00m\n\u001b[0;32m    352\u001b[0m \u001b[39mif\u001b[39;00m \u001b[39misinstance\u001b[39m(moduleOrReq, Requirement):\n\u001b[1;32m--> 353\u001b[0m     \u001b[39mreturn\u001b[39;00m working_set\u001b[39m.\u001b[39mfind(moduleOrReq) \u001b[39mor\u001b[39;00m require(\u001b[39mstr\u001b[39;49m(moduleOrReq))[\u001b[39m0\u001b[39m]\n\u001b[0;32m    354\u001b[0m \u001b[39mtry\u001b[39;00m:\n\u001b[0;32m    355\u001b[0m     module \u001b[39m=\u001b[39m sys\u001b[39m.\u001b[39mmodules[moduleOrReq]\n",
      "File \u001b[1;32md:\\Anaconda\\lib\\site-packages\\pkg_resources\\__init__.py:897\u001b[0m, in \u001b[0;36mWorkingSet.require\u001b[1;34m(self, *requirements)\u001b[0m\n\u001b[0;32m    888\u001b[0m \u001b[39mdef\u001b[39;00m \u001b[39mrequire\u001b[39m(\u001b[39mself\u001b[39m, \u001b[39m*\u001b[39mrequirements):\n\u001b[0;32m    889\u001b[0m \u001b[39m    \u001b[39m\u001b[39m\"\"\"Ensure that distributions matching `requirements` are activated\u001b[39;00m\n\u001b[0;32m    890\u001b[0m \n\u001b[0;32m    891\u001b[0m \u001b[39m    `requirements` must be a string or a (possibly-nested) sequence\u001b[39;00m\n\u001b[1;32m   (...)\u001b[0m\n\u001b[0;32m    895\u001b[0m \u001b[39m    included, even if they were already activated in this working set.\u001b[39;00m\n\u001b[0;32m    896\u001b[0m \u001b[39m    \"\"\"\u001b[39;00m\n\u001b[1;32m--> 897\u001b[0m     needed \u001b[39m=\u001b[39m \u001b[39mself\u001b[39;49m\u001b[39m.\u001b[39;49mresolve(parse_requirements(requirements))\n\u001b[0;32m    899\u001b[0m     \u001b[39mfor\u001b[39;00m dist \u001b[39min\u001b[39;00m needed:\n\u001b[0;32m    900\u001b[0m         \u001b[39mself\u001b[39m\u001b[39m.\u001b[39madd(dist)\n",
      "File \u001b[1;32md:\\Anaconda\\lib\\site-packages\\pkg_resources\\__init__.py:791\u001b[0m, in \u001b[0;36mWorkingSet.resolve\u001b[1;34m(self, requirements, env, installer, replace_conflicting, extras)\u001b[0m\n\u001b[0;32m    788\u001b[0m     \u001b[39mraise\u001b[39;00m VersionConflict(dist, req)\u001b[39m.\u001b[39mwith_context(dependent_req)\n\u001b[0;32m    790\u001b[0m \u001b[39m# push the new requirements onto the stack\u001b[39;00m\n\u001b[1;32m--> 791\u001b[0m new_requirements \u001b[39m=\u001b[39m dist\u001b[39m.\u001b[39;49mrequires(req\u001b[39m.\u001b[39;49mextras)[::\u001b[39m-\u001b[39m\u001b[39m1\u001b[39m]\n\u001b[0;32m    792\u001b[0m requirements\u001b[39m.\u001b[39mextend(new_requirements)\n\u001b[0;32m    794\u001b[0m \u001b[39m# Register the new requirements needed by req\u001b[39;00m\n",
      "File \u001b[1;32md:\\Anaconda\\lib\\site-packages\\pkg_resources\\__init__.py:2742\u001b[0m, in \u001b[0;36mDistribution.requires\u001b[1;34m(self, extras)\u001b[0m\n\u001b[0;32m   2740\u001b[0m \u001b[39mdef\u001b[39;00m \u001b[39mrequires\u001b[39m(\u001b[39mself\u001b[39m, extras\u001b[39m=\u001b[39m()):\n\u001b[0;32m   2741\u001b[0m \u001b[39m    \u001b[39m\u001b[39m\"\"\"List of Requirements needed for this distro if `extras` are used\"\"\"\u001b[39;00m\n\u001b[1;32m-> 2742\u001b[0m     dm \u001b[39m=\u001b[39m \u001b[39mself\u001b[39;49m\u001b[39m.\u001b[39;49m_dep_map\n\u001b[0;32m   2743\u001b[0m     deps \u001b[39m=\u001b[39m []\n\u001b[0;32m   2744\u001b[0m     deps\u001b[39m.\u001b[39mextend(dm\u001b[39m.\u001b[39mget(\u001b[39mNone\u001b[39;00m, ()))\n",
      "File \u001b[1;32md:\\Anaconda\\lib\\site-packages\\pkg_resources\\__init__.py:3026\u001b[0m, in \u001b[0;36mDistInfoDistribution._dep_map\u001b[1;34m(self)\u001b[0m\n\u001b[0;32m   3024\u001b[0m     \u001b[39mreturn\u001b[39;00m \u001b[39mself\u001b[39m\u001b[39m.\u001b[39m__dep_map\n\u001b[0;32m   3025\u001b[0m \u001b[39mexcept\u001b[39;00m \u001b[39mAttributeError\u001b[39;00m:\n\u001b[1;32m-> 3026\u001b[0m     \u001b[39mself\u001b[39m\u001b[39m.\u001b[39m__dep_map \u001b[39m=\u001b[39m \u001b[39mself\u001b[39;49m\u001b[39m.\u001b[39;49m_compute_dependencies()\n\u001b[0;32m   3027\u001b[0m     \u001b[39mreturn\u001b[39;00m \u001b[39mself\u001b[39m\u001b[39m.\u001b[39m__dep_map\n",
      "File \u001b[1;32md:\\Anaconda\\lib\\site-packages\\pkg_resources\\__init__.py:3035\u001b[0m, in \u001b[0;36mDistInfoDistribution._compute_dependencies\u001b[1;34m(self)\u001b[0m\n\u001b[0;32m   3033\u001b[0m reqs \u001b[39m=\u001b[39m []\n\u001b[0;32m   3034\u001b[0m \u001b[39m# Including any condition expressions\u001b[39;00m\n\u001b[1;32m-> 3035\u001b[0m \u001b[39mfor\u001b[39;00m req \u001b[39min\u001b[39;00m \u001b[39mself\u001b[39;49m\u001b[39m.\u001b[39;49m_parsed_pkg_info\u001b[39m.\u001b[39mget_all(\u001b[39m'\u001b[39m\u001b[39mRequires-Dist\u001b[39m\u001b[39m'\u001b[39m) \u001b[39mor\u001b[39;00m []:\n\u001b[0;32m   3036\u001b[0m     reqs\u001b[39m.\u001b[39mextend(parse_requirements(req))\n\u001b[0;32m   3038\u001b[0m \u001b[39mdef\u001b[39;00m \u001b[39mreqs_for_extra\u001b[39m(extra):\n",
      "File \u001b[1;32md:\\Anaconda\\lib\\site-packages\\pkg_resources\\__init__.py:3017\u001b[0m, in \u001b[0;36mDistInfoDistribution._parsed_pkg_info\u001b[1;34m(self)\u001b[0m\n\u001b[0;32m   3015\u001b[0m     \u001b[39mreturn\u001b[39;00m \u001b[39mself\u001b[39m\u001b[39m.\u001b[39m_pkg_info\n\u001b[0;32m   3016\u001b[0m \u001b[39mexcept\u001b[39;00m \u001b[39mAttributeError\u001b[39;00m:\n\u001b[1;32m-> 3017\u001b[0m     metadata \u001b[39m=\u001b[39m \u001b[39mself\u001b[39;49m\u001b[39m.\u001b[39;49mget_metadata(\u001b[39mself\u001b[39;49m\u001b[39m.\u001b[39;49mPKG_INFO)\n\u001b[0;32m   3018\u001b[0m     \u001b[39mself\u001b[39m\u001b[39m.\u001b[39m_pkg_info \u001b[39m=\u001b[39m email\u001b[39m.\u001b[39mparser\u001b[39m.\u001b[39mParser()\u001b[39m.\u001b[39mparsestr(metadata)\n\u001b[0;32m   3019\u001b[0m     \u001b[39mreturn\u001b[39;00m \u001b[39mself\u001b[39m\u001b[39m.\u001b[39m_pkg_info\n",
      "File \u001b[1;32md:\\Anaconda\\lib\\site-packages\\pkg_resources\\__init__.py:1418\u001b[0m, in \u001b[0;36mNullProvider.get_metadata\u001b[1;34m(self, name)\u001b[0m\n\u001b[0;32m   1416\u001b[0m     \u001b[39mreturn\u001b[39;00m \u001b[39m\"\u001b[39m\u001b[39m\"\u001b[39m\n\u001b[0;32m   1417\u001b[0m path \u001b[39m=\u001b[39m \u001b[39mself\u001b[39m\u001b[39m.\u001b[39m_get_metadata_path(name)\n\u001b[1;32m-> 1418\u001b[0m value \u001b[39m=\u001b[39m \u001b[39mself\u001b[39;49m\u001b[39m.\u001b[39;49m_get(path)\n\u001b[0;32m   1419\u001b[0m \u001b[39mtry\u001b[39;00m:\n\u001b[0;32m   1420\u001b[0m     \u001b[39mreturn\u001b[39;00m value\u001b[39m.\u001b[39mdecode(\u001b[39m'\u001b[39m\u001b[39mutf-8\u001b[39m\u001b[39m'\u001b[39m)\n",
      "File \u001b[1;32md:\\Anaconda\\lib\\site-packages\\pkg_resources\\__init__.py:1622\u001b[0m, in \u001b[0;36mDefaultProvider._get\u001b[1;34m(self, path)\u001b[0m\n\u001b[0;32m   1621\u001b[0m \u001b[39mdef\u001b[39;00m \u001b[39m_get\u001b[39m(\u001b[39mself\u001b[39m, path):\n\u001b[1;32m-> 1622\u001b[0m     \u001b[39mwith\u001b[39;00m \u001b[39mopen\u001b[39;49m(path, \u001b[39m'\u001b[39;49m\u001b[39mrb\u001b[39;49m\u001b[39m'\u001b[39;49m) \u001b[39mas\u001b[39;00m stream:\n\u001b[0;32m   1623\u001b[0m         \u001b[39mreturn\u001b[39;00m stream\u001b[39m.\u001b[39mread()\n",
      "\u001b[1;31mFileNotFoundError\u001b[0m: [Errno 2] No such file or directory: 'd:\\\\anaconda\\\\lib\\\\site-packages\\\\xarray-0.20.1.dist-info\\\\METADATA'"
     ]
    }
   ],
   "source": [
    "import pymc3 as pm\n",
    "\n",
    "# Define the model\n",
    "with pm.Model() as model:\n",
    "    # Define priors for the conditional probabilities\n",
    "    p_success = pm.Beta('p_success', alpha=2, beta=2, shape=(100,))\n",
    "    p_temp = pm.Normal('p_temp', mu=20, sigma=5, shape=(100,))\n",
    "    p_precip = pm.Normal('p_precip', mu=0, sigma=1, shape=(100,))\n",
    "    \n",
    "    # Define the conditional probability of success given the road segment, temperature, and precipitation\n",
    "    p = pm.Deterministic('p', p_success[start_locations] * p_temp[start_locations] * p_precip[start_locations])\n",
    "    \n",
    "    # Define the likelihood function\n",
    "    y = pm.Bernoulli('y', p=p, observed=success_flags)\n",
    "    \n",
    "    # Sample from the posterior distribution\n",
    "    trace = pm.sample(1000, tune=1000)\n"
   ]
  },
  {
   "cell_type": "code",
   "execution_count": null,
   "metadata": {},
   "outputs": [],
   "source": []
  }
 ],
 "metadata": {
  "kernelspec": {
   "display_name": "Python 3 (ipykernel)",
   "language": "python",
   "name": "python3"
  },
  "language_info": {
   "codemirror_mode": {
    "name": "ipython",
    "version": 3
   },
   "file_extension": ".py",
   "mimetype": "text/x-python",
   "name": "python",
   "nbconvert_exporter": "python",
   "pygments_lexer": "ipython3",
   "version": "3.9.12"
  },
  "toc": {
   "base_numbering": 1,
   "nav_menu": {},
   "number_sections": true,
   "sideBar": true,
   "skip_h1_title": false,
   "title_cell": "Table of Contents",
   "title_sidebar": "Contents",
   "toc_cell": false,
   "toc_position": {},
   "toc_section_display": true,
   "toc_window_display": true
  },
  "vscode": {
   "interpreter": {
    "hash": "88279d2366fe020547cde40dd65aa0e3aa662a6ec1f3ca12d88834876c85e1a6"
   }
  }
 },
 "nbformat": 4,
 "nbformat_minor": 2
}
