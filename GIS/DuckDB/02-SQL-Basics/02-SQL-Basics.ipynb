{
 "cells": [
  {
   "cell_type": "markdown",
   "metadata": {},
   "source": [
    "## SQL Basics\n",
    "This notebook is a short introduction to SQL. It is based on the [DuckDB](https://duckdb.org/) database engine.\n",
    "\n",
    "## Datasets\n",
    "The following datasets are used in this notebook. You don’t need to download them, they can be accessed directly from the notebook.\n",
    "\n",
    "* [cities.csv](https://open.gishub.org/data/duckdb/cities.csv)\n",
    "* [countries.csv](https://open.gishub.org/data/duckdb/countries.csv)"
   ]
  },
  {
   "cell_type": "markdown",
   "metadata": {},
   "source": [
    "## Reference\n",
    "* [Tutorial from Dr. QiuSheng Wu](https://geog-414.gishub.org/book/duckdb/02_sql_basics.html)\n",
    "* [W3Schools SQL Tutorial](https://www.w3schools.com/sql)\n",
    "* [DuckDB SQL Introduction](https://duckdb.org/docs/sql/introduction.html)"
   ]
  },
  {
   "cell_type": "markdown",
   "metadata": {},
   "source": [
    "## Library Import and Configuration"
   ]
  },
  {
   "cell_type": "code",
   "execution_count": 1,
   "metadata": {},
   "outputs": [],
   "source": [
    "import duckdb\n",
    "import pandas as pd\n",
    "\n",
    "# Import jupysql Jupyter extension to create SQL cells\n",
    "%load_ext sql"
   ]
  },
  {
   "cell_type": "markdown",
   "metadata": {},
   "source": [
    "Set configurations on jupysql to directly output data to Pandas and to simplify the output that is printed to the notebook.\n",
    "\n",
    "```\n",
    "%config SqlMagic.autopandas = True\n",
    "%config SqlMagic.feedback = False\n",
    "%config SqlMagic.displaycon = False\n",
    "```"
   ]
  },
  {
   "cell_type": "markdown",
   "metadata": {},
   "source": [
    "## Connecting to DuckDB"
   ]
  },
  {
   "cell_type": "markdown",
   "metadata": {},
   "source": [
    "Connect jupysql to DuckDB using a SQLAlchemy-style connection string. You may either connect to an in memory DuckDB, or a file backed db.    \n",
    "If your SQL query is one line only, you may use the `%sql` magic command. For multi-line SQL query, you may use the `%%sql` magic command."
   ]
  },
  {
   "cell_type": "code",
   "execution_count": 3,
   "metadata": {},
   "outputs": [
    {
     "data": {
      "text/html": [
       "<span style=\"None\">Connecting to &#x27;duckdb:///:memory:&#x27;</span>"
      ],
      "text/plain": [
       "Connecting to 'duckdb:///:memory:'"
      ]
     },
     "metadata": {},
     "output_type": "display_data"
    }
   ],
   "source": [
    "%sql duckdb:///:memory:\n",
    "# %sql duckdb:///path/to/file.db"
   ]
  },
  {
   "cell_type": "markdown",
   "metadata": {},
   "source": [
    "## Install extensions\n",
    "Check available DuckDB extensions."
   ]
  },
  {
   "cell_type": "code",
   "execution_count": 4,
   "metadata": {},
   "outputs": [
    {
     "data": {
      "text/html": [
       "<span style=\"None\">Running query in &#x27;duckdb:///:memory:&#x27;</span>"
      ],
      "text/plain": [
       "Running query in 'duckdb:///:memory:'"
      ]
     },
     "metadata": {},
     "output_type": "display_data"
    },
    {
     "data": {
      "text/html": [
       "<table>\n",
       "    <thead>\n",
       "        <tr>\n",
       "            <th>extension_name</th>\n",
       "            <th>loaded</th>\n",
       "            <th>installed</th>\n",
       "            <th>install_path</th>\n",
       "            <th>description</th>\n",
       "            <th>aliases</th>\n",
       "        </tr>\n",
       "    </thead>\n",
       "    <tbody>\n",
       "        <tr>\n",
       "            <td>arrow</td>\n",
       "            <td>False</td>\n",
       "            <td>False</td>\n",
       "            <td></td>\n",
       "            <td>A zero-copy data integration between Apache Arrow and DuckDB</td>\n",
       "            <td>[]</td>\n",
       "        </tr>\n",
       "        <tr>\n",
       "            <td>autocomplete</td>\n",
       "            <td>False</td>\n",
       "            <td>False</td>\n",
       "            <td></td>\n",
       "            <td>Adds support for autocomplete in the shell</td>\n",
       "            <td>[]</td>\n",
       "        </tr>\n",
       "        <tr>\n",
       "            <td>aws</td>\n",
       "            <td>False</td>\n",
       "            <td>False</td>\n",
       "            <td></td>\n",
       "            <td>Provides features that depend on the AWS SDK</td>\n",
       "            <td>[]</td>\n",
       "        </tr>\n",
       "        <tr>\n",
       "            <td>azure</td>\n",
       "            <td>False</td>\n",
       "            <td>False</td>\n",
       "            <td></td>\n",
       "            <td>Adds a filesystem abstraction for Azure blob storage to DuckDB</td>\n",
       "            <td>[]</td>\n",
       "        </tr>\n",
       "        <tr>\n",
       "            <td>excel</td>\n",
       "            <td>False</td>\n",
       "            <td>False</td>\n",
       "            <td></td>\n",
       "            <td>Adds support for Excel-like format strings</td>\n",
       "            <td>[]</td>\n",
       "        </tr>\n",
       "        <tr>\n",
       "            <td>fts</td>\n",
       "            <td>False</td>\n",
       "            <td>True</td>\n",
       "            <td>(BUILT-IN)</td>\n",
       "            <td>Adds support for Full-Text Search Indexes</td>\n",
       "            <td>[]</td>\n",
       "        </tr>\n",
       "        <tr>\n",
       "            <td><a href=httpfs>httpfs</a></td>\n",
       "            <td>False</td>\n",
       "            <td>False</td>\n",
       "            <td></td>\n",
       "            <td>Adds support for reading and writing files over a HTTP(S) connection</td>\n",
       "            <td>['http', 'https', 's3']</td>\n",
       "        </tr>\n",
       "        <tr>\n",
       "            <td>iceberg</td>\n",
       "            <td>False</td>\n",
       "            <td>False</td>\n",
       "            <td></td>\n",
       "            <td>Adds support for Apache Iceberg</td>\n",
       "            <td>[]</td>\n",
       "        </tr>\n",
       "        <tr>\n",
       "            <td>icu</td>\n",
       "            <td>True</td>\n",
       "            <td>True</td>\n",
       "            <td>(BUILT-IN)</td>\n",
       "            <td>Adds support for time zones and collations using the ICU library</td>\n",
       "            <td>[]</td>\n",
       "        </tr>\n",
       "        <tr>\n",
       "            <td>inet</td>\n",
       "            <td>False</td>\n",
       "            <td>False</td>\n",
       "            <td></td>\n",
       "            <td>Adds support for IP-related data types and functions</td>\n",
       "            <td>[]</td>\n",
       "        </tr>\n",
       "    </tbody>\n",
       "</table>\n",
       "<span style=\"font-style:italic;text-align:center;\">Truncated to <a href=\"https://jupysql.ploomber.io/en/latest/api/configuration.html#displaylimit\">displaylimit</a> of 10.</span>"
      ],
      "text/plain": [
       "+---------------------------+--------+-----------+--------------+----------------------------------------------------------------------+-------------------------+\n",
       "|       extension_name      | loaded | installed | install_path |                             description                              |         aliases         |\n",
       "+---------------------------+--------+-----------+--------------+----------------------------------------------------------------------+-------------------------+\n",
       "|           arrow           | False  |   False   |              |     A zero-copy data integration between Apache Arrow and DuckDB     |            []           |\n",
       "|        autocomplete       | False  |   False   |              |              Adds support for autocomplete in the shell              |            []           |\n",
       "|            aws            | False  |   False   |              |             Provides features that depend on the AWS SDK             |            []           |\n",
       "|           azure           | False  |   False   |              |    Adds a filesystem abstraction for Azure blob storage to DuckDB    |            []           |\n",
       "|           excel           | False  |   False   |              |              Adds support for Excel-like format strings              |            []           |\n",
       "|            fts            | False  |    True   |  (BUILT-IN)  |              Adds support for Full-Text Search Indexes               |            []           |\n",
       "| <a href=httpfs>httpfs</a> | False  |   False   |              | Adds support for reading and writing files over a HTTP(S) connection | ['http', 'https', 's3'] |\n",
       "|          iceberg          | False  |   False   |              |                   Adds support for Apache Iceberg                    |            []           |\n",
       "|            icu            |  True  |    True   |  (BUILT-IN)  |   Adds support for time zones and collations using the ICU library   |            []           |\n",
       "|            inet           | False  |   False   |              |         Adds support for IP-related data types and functions         |            []           |\n",
       "+---------------------------+--------+-----------+--------------+----------------------------------------------------------------------+-------------------------+\n",
       "Truncated to displaylimit of 10."
      ]
     },
     "execution_count": 4,
     "metadata": {},
     "output_type": "execute_result"
    }
   ],
   "source": [
    "%%sql\n",
    "\n",
    "SELECT * FROM duckdb_extensions();"
   ]
  },
  {
   "cell_type": "markdown",
   "metadata": {},
   "source": [
    "DuckDB’s [httpfs extension](https://duckdb.org/docs/extensions/httpfs) allows parquet and csv files to be queried remotely over http. This is useful for querying large datasets without having to download them locally. Let’s install the extension and load the extension."
   ]
  },
  {
   "cell_type": "code",
   "execution_count": 5,
   "metadata": {},
   "outputs": [
    {
     "data": {
      "text/html": [
       "<span style=\"None\">Running query in &#x27;duckdb:///:memory:&#x27;</span>"
      ],
      "text/plain": [
       "Running query in 'duckdb:///:memory:'"
      ]
     },
     "metadata": {},
     "output_type": "display_data"
    },
    {
     "data": {
      "text/html": [
       "<table>\n",
       "    <thead>\n",
       "        <tr>\n",
       "            <th>Success</th>\n",
       "        </tr>\n",
       "    </thead>\n",
       "    <tbody>\n",
       "    </tbody>\n",
       "</table>"
      ],
      "text/plain": [
       "+---------+\n",
       "| Success |\n",
       "+---------+\n",
       "+---------+"
      ]
     },
     "execution_count": 5,
     "metadata": {},
     "output_type": "execute_result"
    }
   ],
   "source": [
    "%%sql\n",
    "\n",
    "INSTALL httpfs;\n",
    "LOAD httpfs;"
   ]
  },
  {
   "cell_type": "markdown",
   "metadata": {},
   "source": [
    "## Read online CSV\n",
    "Use the `httpfs` extension to read the `cities.csv` file from the web."
   ]
  },
  {
   "cell_type": "code",
   "execution_count": 6,
   "metadata": {},
   "outputs": [
    {
     "data": {
      "text/html": [
       "<span style=\"None\">Running query in &#x27;duckdb:///:memory:&#x27;</span>"
      ],
      "text/plain": [
       "Running query in 'duckdb:///:memory:'"
      ]
     },
     "metadata": {},
     "output_type": "display_data"
    },
    {
     "data": {
      "text/html": [
       "<table>\n",
       "    <thead>\n",
       "        <tr>\n",
       "            <th>id</th>\n",
       "            <th>name</th>\n",
       "            <th>country</th>\n",
       "            <th>latitude</th>\n",
       "            <th>longitude</th>\n",
       "            <th>population</th>\n",
       "        </tr>\n",
       "    </thead>\n",
       "    <tbody>\n",
       "        <tr>\n",
       "            <td>1</td>\n",
       "            <td>Bombo</td>\n",
       "            <td>UGA</td>\n",
       "            <td>0.5833</td>\n",
       "            <td>32.5333</td>\n",
       "            <td>75000</td>\n",
       "        </tr>\n",
       "        <tr>\n",
       "            <td>2</td>\n",
       "            <td>Fort Portal</td>\n",
       "            <td>UGA</td>\n",
       "            <td>0.671</td>\n",
       "            <td>30.275</td>\n",
       "            <td>42670</td>\n",
       "        </tr>\n",
       "        <tr>\n",
       "            <td>3</td>\n",
       "            <td>Potenza</td>\n",
       "            <td>ITA</td>\n",
       "            <td>40.642</td>\n",
       "            <td>15.799</td>\n",
       "            <td>69060</td>\n",
       "        </tr>\n",
       "        <tr>\n",
       "            <td>4</td>\n",
       "            <td>Campobasso</td>\n",
       "            <td>ITA</td>\n",
       "            <td>41.563</td>\n",
       "            <td>14.656</td>\n",
       "            <td>50762</td>\n",
       "        </tr>\n",
       "        <tr>\n",
       "            <td>5</td>\n",
       "            <td>Aosta</td>\n",
       "            <td>ITA</td>\n",
       "            <td>45.737</td>\n",
       "            <td>7.315</td>\n",
       "            <td>34062</td>\n",
       "        </tr>\n",
       "        <tr>\n",
       "            <td>6</td>\n",
       "            <td>Mariehamn</td>\n",
       "            <td>ALD</td>\n",
       "            <td>60.097</td>\n",
       "            <td>19.949</td>\n",
       "            <td>10682</td>\n",
       "        </tr>\n",
       "        <tr>\n",
       "            <td>7</td>\n",
       "            <td>Ramallah</td>\n",
       "            <td>PSE</td>\n",
       "            <td>31.90294</td>\n",
       "            <td>35.20621</td>\n",
       "            <td>24599</td>\n",
       "        </tr>\n",
       "        <tr>\n",
       "            <td>8</td>\n",
       "            <td>Vatican City</td>\n",
       "            <td>VAT</td>\n",
       "            <td>41.90001</td>\n",
       "            <td>12.44781</td>\n",
       "            <td>832</td>\n",
       "        </tr>\n",
       "        <tr>\n",
       "            <td>9</td>\n",
       "            <td>Poitier</td>\n",
       "            <td>FRA</td>\n",
       "            <td>46.58329</td>\n",
       "            <td>0.33328</td>\n",
       "            <td>85960</td>\n",
       "        </tr>\n",
       "        <tr>\n",
       "            <td>10</td>\n",
       "            <td>Clermont-Ferrand</td>\n",
       "            <td>FRA</td>\n",
       "            <td>45.77998</td>\n",
       "            <td>3.08001</td>\n",
       "            <td>233050</td>\n",
       "        </tr>\n",
       "    </tbody>\n",
       "</table>\n",
       "<span style=\"font-style:italic;text-align:center;\">Truncated to <a href=\"https://jupysql.ploomber.io/en/latest/api/configuration.html#displaylimit\">displaylimit</a> of 10.</span>"
      ],
      "text/plain": [
       "+----+------------------+---------+----------+-----------+------------+\n",
       "| id |       name       | country | latitude | longitude | population |\n",
       "+----+------------------+---------+----------+-----------+------------+\n",
       "| 1  |      Bombo       |   UGA   |  0.5833  |  32.5333  |   75000    |\n",
       "| 2  |   Fort Portal    |   UGA   |  0.671   |   30.275  |   42670    |\n",
       "| 3  |     Potenza      |   ITA   |  40.642  |   15.799  |   69060    |\n",
       "| 4  |    Campobasso    |   ITA   |  41.563  |   14.656  |   50762    |\n",
       "| 5  |      Aosta       |   ITA   |  45.737  |   7.315   |   34062    |\n",
       "| 6  |    Mariehamn     |   ALD   |  60.097  |   19.949  |   10682    |\n",
       "| 7  |     Ramallah     |   PSE   | 31.90294 |  35.20621 |   24599    |\n",
       "| 8  |   Vatican City   |   VAT   | 41.90001 |  12.44781 |    832     |\n",
       "| 9  |     Poitier      |   FRA   | 46.58329 |  0.33328  |   85960    |\n",
       "| 10 | Clermont-Ferrand |   FRA   | 45.77998 |  3.08001  |   233050   |\n",
       "+----+------------------+---------+----------+-----------+------------+\n",
       "Truncated to displaylimit of 10."
      ]
     },
     "execution_count": 6,
     "metadata": {},
     "output_type": "execute_result"
    }
   ],
   "source": [
    "%%sql\n",
    "\n",
    "SELECT * FROM 'https://open.gishub.org/data/duckdb/cities.csv';"
   ]
  },
  {
   "cell_type": "code",
   "execution_count": 7,
   "metadata": {},
   "outputs": [
    {
     "data": {
      "text/html": [
       "<span style=\"None\">Running query in &#x27;duckdb:///:memory:&#x27;</span>"
      ],
      "text/plain": [
       "Running query in 'duckdb:///:memory:'"
      ]
     },
     "metadata": {},
     "output_type": "display_data"
    },
    {
     "data": {
      "text/html": [
       "<table>\n",
       "    <thead>\n",
       "        <tr>\n",
       "            <th>id</th>\n",
       "            <th>Country</th>\n",
       "            <th>Alpha2_code</th>\n",
       "            <th>Alpha3_code</th>\n",
       "            <th>Numeric_code</th>\n",
       "            <th>Latitude</th>\n",
       "            <th>Longitude</th>\n",
       "        </tr>\n",
       "    </thead>\n",
       "    <tbody>\n",
       "        <tr>\n",
       "            <td>1</td>\n",
       "            <td>Afghanistan</td>\n",
       "            <td>AF</td>\n",
       "            <td>AFG</td>\n",
       "            <td>4</td>\n",
       "            <td>33.0</td>\n",
       "            <td>65.0</td>\n",
       "        </tr>\n",
       "        <tr>\n",
       "            <td>2</td>\n",
       "            <td>Albania</td>\n",
       "            <td>AL</td>\n",
       "            <td>ALB</td>\n",
       "            <td>8</td>\n",
       "            <td>41.0</td>\n",
       "            <td>20.0</td>\n",
       "        </tr>\n",
       "        <tr>\n",
       "            <td>3</td>\n",
       "            <td>Algeria</td>\n",
       "            <td>DZ</td>\n",
       "            <td>DZA</td>\n",
       "            <td>12</td>\n",
       "            <td>28.0</td>\n",
       "            <td>3.0</td>\n",
       "        </tr>\n",
       "        <tr>\n",
       "            <td>4</td>\n",
       "            <td>American Samoa</td>\n",
       "            <td>AS</td>\n",
       "            <td>ASM</td>\n",
       "            <td>16</td>\n",
       "            <td>-14.3333</td>\n",
       "            <td>-170.0</td>\n",
       "        </tr>\n",
       "        <tr>\n",
       "            <td>5</td>\n",
       "            <td>Andorra</td>\n",
       "            <td>AD</td>\n",
       "            <td>AND</td>\n",
       "            <td>20</td>\n",
       "            <td>42.5</td>\n",
       "            <td>1.6</td>\n",
       "        </tr>\n",
       "        <tr>\n",
       "            <td>6</td>\n",
       "            <td>Angola</td>\n",
       "            <td>AO</td>\n",
       "            <td>AGO</td>\n",
       "            <td>24</td>\n",
       "            <td>-12.5</td>\n",
       "            <td>18.5</td>\n",
       "        </tr>\n",
       "        <tr>\n",
       "            <td>7</td>\n",
       "            <td>Anguilla</td>\n",
       "            <td>AI</td>\n",
       "            <td>AIA</td>\n",
       "            <td>660</td>\n",
       "            <td>18.25</td>\n",
       "            <td>-63.1667</td>\n",
       "        </tr>\n",
       "        <tr>\n",
       "            <td>8</td>\n",
       "            <td>Antarctica</td>\n",
       "            <td>AQ</td>\n",
       "            <td>ATA</td>\n",
       "            <td>10</td>\n",
       "            <td>-90.0</td>\n",
       "            <td>0.0</td>\n",
       "        </tr>\n",
       "        <tr>\n",
       "            <td>9</td>\n",
       "            <td>Antigua and Barbuda</td>\n",
       "            <td>AG</td>\n",
       "            <td>ATG</td>\n",
       "            <td>28</td>\n",
       "            <td>17.05</td>\n",
       "            <td>-61.8</td>\n",
       "        </tr>\n",
       "        <tr>\n",
       "            <td>10</td>\n",
       "            <td>Argentina</td>\n",
       "            <td>AR</td>\n",
       "            <td>ARG</td>\n",
       "            <td>32</td>\n",
       "            <td>-34.0</td>\n",
       "            <td>-64.0</td>\n",
       "        </tr>\n",
       "    </tbody>\n",
       "</table>\n",
       "<span style=\"font-style:italic;text-align:center;\">Truncated to <a href=\"https://jupysql.ploomber.io/en/latest/api/configuration.html#displaylimit\">displaylimit</a> of 10.</span>"
      ],
      "text/plain": [
       "+----+---------------------+-------------+-------------+--------------+----------+-----------+\n",
       "| id |       Country       | Alpha2_code | Alpha3_code | Numeric_code | Latitude | Longitude |\n",
       "+----+---------------------+-------------+-------------+--------------+----------+-----------+\n",
       "| 1  |     Afghanistan     |      AF     |     AFG     |      4       |   33.0   |    65.0   |\n",
       "| 2  |       Albania       |      AL     |     ALB     |      8       |   41.0   |    20.0   |\n",
       "| 3  |       Algeria       |      DZ     |     DZA     |      12      |   28.0   |    3.0    |\n",
       "| 4  |    American Samoa   |      AS     |     ASM     |      16      | -14.3333 |   -170.0  |\n",
       "| 5  |       Andorra       |      AD     |     AND     |      20      |   42.5   |    1.6    |\n",
       "| 6  |        Angola       |      AO     |     AGO     |      24      |  -12.5   |    18.5   |\n",
       "| 7  |       Anguilla      |      AI     |     AIA     |     660      |  18.25   |  -63.1667 |\n",
       "| 8  |      Antarctica     |      AQ     |     ATA     |      10      |  -90.0   |    0.0    |\n",
       "| 9  | Antigua and Barbuda |      AG     |     ATG     |      28      |  17.05   |   -61.8   |\n",
       "| 10 |      Argentina      |      AR     |     ARG     |      32      |  -34.0   |   -64.0   |\n",
       "+----+---------------------+-------------+-------------+--------------+----------+-----------+\n",
       "Truncated to displaylimit of 10."
      ]
     },
     "execution_count": 7,
     "metadata": {},
     "output_type": "execute_result"
    }
   ],
   "source": [
    "%%sql\n",
    "\n",
    "SELECT * FROM 'https://open.gishub.org/data/duckdb/countries.csv';"
   ]
  },
  {
   "cell_type": "markdown",
   "metadata": {},
   "source": [
    "## Create Table\n",
    "Create a table named `cities` from the `cities.csv` file."
   ]
  },
  {
   "cell_type": "code",
   "execution_count": 8,
   "metadata": {},
   "outputs": [
    {
     "data": {
      "text/html": [
       "<span style=\"None\">Running query in &#x27;duckdb:///:memory:&#x27;</span>"
      ],
      "text/plain": [
       "Running query in 'duckdb:///:memory:'"
      ]
     },
     "metadata": {},
     "output_type": "display_data"
    },
    {
     "data": {
      "text/html": [
       "<table>\n",
       "    <thead>\n",
       "        <tr>\n",
       "            <th>Count</th>\n",
       "        </tr>\n",
       "    </thead>\n",
       "    <tbody>\n",
       "    </tbody>\n",
       "</table>"
      ],
      "text/plain": [
       "+-------+\n",
       "| Count |\n",
       "+-------+\n",
       "+-------+"
      ]
     },
     "execution_count": 8,
     "metadata": {},
     "output_type": "execute_result"
    }
   ],
   "source": [
    "%%sql \n",
    "\n",
    "CREATE TABLE cities AS SELECT * FROM 'https://open.gishub.org/data/duckdb/cities.csv';"
   ]
  },
  {
   "cell_type": "markdown",
   "metadata": {},
   "source": [
    "Create a table named `countries` from the `countries.csv` file."
   ]
  },
  {
   "cell_type": "code",
   "execution_count": 9,
   "metadata": {},
   "outputs": [
    {
     "data": {
      "text/html": [
       "<span style=\"None\">Running query in &#x27;duckdb:///:memory:&#x27;</span>"
      ],
      "text/plain": [
       "Running query in 'duckdb:///:memory:'"
      ]
     },
     "metadata": {},
     "output_type": "display_data"
    },
    {
     "data": {
      "text/html": [
       "<table>\n",
       "    <thead>\n",
       "        <tr>\n",
       "            <th>Count</th>\n",
       "        </tr>\n",
       "    </thead>\n",
       "    <tbody>\n",
       "    </tbody>\n",
       "</table>"
      ],
      "text/plain": [
       "+-------+\n",
       "| Count |\n",
       "+-------+\n",
       "+-------+"
      ]
     },
     "execution_count": 9,
     "metadata": {},
     "output_type": "execute_result"
    }
   ],
   "source": [
    "%%sql \n",
    "\n",
    "CREATE TABLE countries AS SELECT * FROM 'https://open.gishub.org/data/duckdb/countries.csv';"
   ]
  },
  {
   "cell_type": "markdown",
   "metadata": {},
   "source": [
    "Display the table content in the database."
   ]
  },
  {
   "cell_type": "code",
   "execution_count": 10,
   "metadata": {},
   "outputs": [
    {
     "data": {
      "text/html": [
       "<span style=\"None\">Running query in &#x27;duckdb:///:memory:&#x27;</span>"
      ],
      "text/plain": [
       "Running query in 'duckdb:///:memory:'"
      ]
     },
     "metadata": {},
     "output_type": "display_data"
    },
    {
     "data": {
      "text/html": [
       "<table>\n",
       "    <thead>\n",
       "        <tr>\n",
       "            <th>id</th>\n",
       "            <th>name</th>\n",
       "            <th>country</th>\n",
       "            <th>latitude</th>\n",
       "            <th>longitude</th>\n",
       "            <th>population</th>\n",
       "        </tr>\n",
       "    </thead>\n",
       "    <tbody>\n",
       "        <tr>\n",
       "            <td>1</td>\n",
       "            <td>Bombo</td>\n",
       "            <td>UGA</td>\n",
       "            <td>0.5833</td>\n",
       "            <td>32.5333</td>\n",
       "            <td>75000</td>\n",
       "        </tr>\n",
       "        <tr>\n",
       "            <td>2</td>\n",
       "            <td>Fort Portal</td>\n",
       "            <td>UGA</td>\n",
       "            <td>0.671</td>\n",
       "            <td>30.275</td>\n",
       "            <td>42670</td>\n",
       "        </tr>\n",
       "        <tr>\n",
       "            <td>3</td>\n",
       "            <td>Potenza</td>\n",
       "            <td>ITA</td>\n",
       "            <td>40.642</td>\n",
       "            <td>15.799</td>\n",
       "            <td>69060</td>\n",
       "        </tr>\n",
       "        <tr>\n",
       "            <td>4</td>\n",
       "            <td>Campobasso</td>\n",
       "            <td>ITA</td>\n",
       "            <td>41.563</td>\n",
       "            <td>14.656</td>\n",
       "            <td>50762</td>\n",
       "        </tr>\n",
       "        <tr>\n",
       "            <td>5</td>\n",
       "            <td>Aosta</td>\n",
       "            <td>ITA</td>\n",
       "            <td>45.737</td>\n",
       "            <td>7.315</td>\n",
       "            <td>34062</td>\n",
       "        </tr>\n",
       "        <tr>\n",
       "            <td>6</td>\n",
       "            <td>Mariehamn</td>\n",
       "            <td>ALD</td>\n",
       "            <td>60.097</td>\n",
       "            <td>19.949</td>\n",
       "            <td>10682</td>\n",
       "        </tr>\n",
       "        <tr>\n",
       "            <td>7</td>\n",
       "            <td>Ramallah</td>\n",
       "            <td>PSE</td>\n",
       "            <td>31.90294</td>\n",
       "            <td>35.20621</td>\n",
       "            <td>24599</td>\n",
       "        </tr>\n",
       "        <tr>\n",
       "            <td>8</td>\n",
       "            <td>Vatican City</td>\n",
       "            <td>VAT</td>\n",
       "            <td>41.90001</td>\n",
       "            <td>12.44781</td>\n",
       "            <td>832</td>\n",
       "        </tr>\n",
       "        <tr>\n",
       "            <td>9</td>\n",
       "            <td>Poitier</td>\n",
       "            <td>FRA</td>\n",
       "            <td>46.58329</td>\n",
       "            <td>0.33328</td>\n",
       "            <td>85960</td>\n",
       "        </tr>\n",
       "        <tr>\n",
       "            <td>10</td>\n",
       "            <td>Clermont-Ferrand</td>\n",
       "            <td>FRA</td>\n",
       "            <td>45.77998</td>\n",
       "            <td>3.08001</td>\n",
       "            <td>233050</td>\n",
       "        </tr>\n",
       "    </tbody>\n",
       "</table>\n",
       "<span style=\"font-style:italic;text-align:center;\">Truncated to <a href=\"https://jupysql.ploomber.io/en/latest/api/configuration.html#displaylimit\">displaylimit</a> of 10.</span>"
      ],
      "text/plain": [
       "+----+------------------+---------+----------+-----------+------------+\n",
       "| id |       name       | country | latitude | longitude | population |\n",
       "+----+------------------+---------+----------+-----------+------------+\n",
       "| 1  |      Bombo       |   UGA   |  0.5833  |  32.5333  |   75000    |\n",
       "| 2  |   Fort Portal    |   UGA   |  0.671   |   30.275  |   42670    |\n",
       "| 3  |     Potenza      |   ITA   |  40.642  |   15.799  |   69060    |\n",
       "| 4  |    Campobasso    |   ITA   |  41.563  |   14.656  |   50762    |\n",
       "| 5  |      Aosta       |   ITA   |  45.737  |   7.315   |   34062    |\n",
       "| 6  |    Mariehamn     |   ALD   |  60.097  |   19.949  |   10682    |\n",
       "| 7  |     Ramallah     |   PSE   | 31.90294 |  35.20621 |   24599    |\n",
       "| 8  |   Vatican City   |   VAT   | 41.90001 |  12.44781 |    832     |\n",
       "| 9  |     Poitier      |   FRA   | 46.58329 |  0.33328  |   85960    |\n",
       "| 10 | Clermont-Ferrand |   FRA   | 45.77998 |  3.08001  |   233050   |\n",
       "+----+------------------+---------+----------+-----------+------------+\n",
       "Truncated to displaylimit of 10."
      ]
     },
     "execution_count": 10,
     "metadata": {},
     "output_type": "execute_result"
    }
   ],
   "source": [
    "%%sql \n",
    "\n",
    "FROM cities;"
   ]
  },
  {
   "cell_type": "code",
   "execution_count": 11,
   "metadata": {},
   "outputs": [
    {
     "data": {
      "text/html": [
       "<span style=\"None\">Running query in &#x27;duckdb:///:memory:&#x27;</span>"
      ],
      "text/plain": [
       "Running query in 'duckdb:///:memory:'"
      ]
     },
     "metadata": {},
     "output_type": "display_data"
    },
    {
     "data": {
      "text/html": [
       "<table>\n",
       "    <thead>\n",
       "        <tr>\n",
       "            <th>id</th>\n",
       "            <th>Country</th>\n",
       "            <th>Alpha2_code</th>\n",
       "            <th>Alpha3_code</th>\n",
       "            <th>Numeric_code</th>\n",
       "            <th>Latitude</th>\n",
       "            <th>Longitude</th>\n",
       "        </tr>\n",
       "    </thead>\n",
       "    <tbody>\n",
       "        <tr>\n",
       "            <td>1</td>\n",
       "            <td>Afghanistan</td>\n",
       "            <td>AF</td>\n",
       "            <td>AFG</td>\n",
       "            <td>4</td>\n",
       "            <td>33.0</td>\n",
       "            <td>65.0</td>\n",
       "        </tr>\n",
       "        <tr>\n",
       "            <td>2</td>\n",
       "            <td>Albania</td>\n",
       "            <td>AL</td>\n",
       "            <td>ALB</td>\n",
       "            <td>8</td>\n",
       "            <td>41.0</td>\n",
       "            <td>20.0</td>\n",
       "        </tr>\n",
       "        <tr>\n",
       "            <td>3</td>\n",
       "            <td>Algeria</td>\n",
       "            <td>DZ</td>\n",
       "            <td>DZA</td>\n",
       "            <td>12</td>\n",
       "            <td>28.0</td>\n",
       "            <td>3.0</td>\n",
       "        </tr>\n",
       "        <tr>\n",
       "            <td>4</td>\n",
       "            <td>American Samoa</td>\n",
       "            <td>AS</td>\n",
       "            <td>ASM</td>\n",
       "            <td>16</td>\n",
       "            <td>-14.3333</td>\n",
       "            <td>-170.0</td>\n",
       "        </tr>\n",
       "        <tr>\n",
       "            <td>5</td>\n",
       "            <td>Andorra</td>\n",
       "            <td>AD</td>\n",
       "            <td>AND</td>\n",
       "            <td>20</td>\n",
       "            <td>42.5</td>\n",
       "            <td>1.6</td>\n",
       "        </tr>\n",
       "        <tr>\n",
       "            <td>6</td>\n",
       "            <td>Angola</td>\n",
       "            <td>AO</td>\n",
       "            <td>AGO</td>\n",
       "            <td>24</td>\n",
       "            <td>-12.5</td>\n",
       "            <td>18.5</td>\n",
       "        </tr>\n",
       "        <tr>\n",
       "            <td>7</td>\n",
       "            <td>Anguilla</td>\n",
       "            <td>AI</td>\n",
       "            <td>AIA</td>\n",
       "            <td>660</td>\n",
       "            <td>18.25</td>\n",
       "            <td>-63.1667</td>\n",
       "        </tr>\n",
       "        <tr>\n",
       "            <td>8</td>\n",
       "            <td>Antarctica</td>\n",
       "            <td>AQ</td>\n",
       "            <td>ATA</td>\n",
       "            <td>10</td>\n",
       "            <td>-90.0</td>\n",
       "            <td>0.0</td>\n",
       "        </tr>\n",
       "        <tr>\n",
       "            <td>9</td>\n",
       "            <td>Antigua and Barbuda</td>\n",
       "            <td>AG</td>\n",
       "            <td>ATG</td>\n",
       "            <td>28</td>\n",
       "            <td>17.05</td>\n",
       "            <td>-61.8</td>\n",
       "        </tr>\n",
       "        <tr>\n",
       "            <td>10</td>\n",
       "            <td>Argentina</td>\n",
       "            <td>AR</td>\n",
       "            <td>ARG</td>\n",
       "            <td>32</td>\n",
       "            <td>-34.0</td>\n",
       "            <td>-64.0</td>\n",
       "        </tr>\n",
       "    </tbody>\n",
       "</table>\n",
       "<span style=\"font-style:italic;text-align:center;\">Truncated to <a href=\"https://jupysql.ploomber.io/en/latest/api/configuration.html#displaylimit\">displaylimit</a> of 10.</span>"
      ],
      "text/plain": [
       "+----+---------------------+-------------+-------------+--------------+----------+-----------+\n",
       "| id |       Country       | Alpha2_code | Alpha3_code | Numeric_code | Latitude | Longitude |\n",
       "+----+---------------------+-------------+-------------+--------------+----------+-----------+\n",
       "| 1  |     Afghanistan     |      AF     |     AFG     |      4       |   33.0   |    65.0   |\n",
       "| 2  |       Albania       |      AL     |     ALB     |      8       |   41.0   |    20.0   |\n",
       "| 3  |       Algeria       |      DZ     |     DZA     |      12      |   28.0   |    3.0    |\n",
       "| 4  |    American Samoa   |      AS     |     ASM     |      16      | -14.3333 |   -170.0  |\n",
       "| 5  |       Andorra       |      AD     |     AND     |      20      |   42.5   |    1.6    |\n",
       "| 6  |        Angola       |      AO     |     AGO     |      24      |  -12.5   |    18.5   |\n",
       "| 7  |       Anguilla      |      AI     |     AIA     |     660      |  18.25   |  -63.1667 |\n",
       "| 8  |      Antarctica     |      AQ     |     ATA     |      10      |  -90.0   |    0.0    |\n",
       "| 9  | Antigua and Barbuda |      AG     |     ATG     |      28      |  17.05   |   -61.8   |\n",
       "| 10 |      Argentina      |      AR     |     ARG     |      32      |  -34.0   |   -64.0   |\n",
       "+----+---------------------+-------------+-------------+--------------+----------+-----------+\n",
       "Truncated to displaylimit of 10."
      ]
     },
     "execution_count": 11,
     "metadata": {},
     "output_type": "execute_result"
    }
   ],
   "source": [
    "%%sql \n",
    "\n",
    "FROM countries;"
   ]
  },
  {
   "cell_type": "markdown",
   "metadata": {},
   "source": [
    "## The SQL SELECT statement\n",
    "The `SELECT` statement is used to select data from a database. Use either `SELECT *` to select all columns, or `SELECT column1, column2, ...` to select specific columns.\n",
    "\n",
    "`SELECT * FROM cities` is the same as `FROM cities`."
   ]
  },
  {
   "cell_type": "code",
   "execution_count": 12,
   "metadata": {},
   "outputs": [
    {
     "data": {
      "text/html": [
       "<span style=\"None\">Running query in &#x27;duckdb:///:memory:&#x27;</span>"
      ],
      "text/plain": [
       "Running query in 'duckdb:///:memory:'"
      ]
     },
     "metadata": {},
     "output_type": "display_data"
    },
    {
     "data": {
      "text/html": [
       "<table>\n",
       "    <thead>\n",
       "        <tr>\n",
       "            <th>id</th>\n",
       "            <th>name</th>\n",
       "            <th>country</th>\n",
       "            <th>latitude</th>\n",
       "            <th>longitude</th>\n",
       "            <th>population</th>\n",
       "        </tr>\n",
       "    </thead>\n",
       "    <tbody>\n",
       "        <tr>\n",
       "            <td>1</td>\n",
       "            <td>Bombo</td>\n",
       "            <td>UGA</td>\n",
       "            <td>0.5833</td>\n",
       "            <td>32.5333</td>\n",
       "            <td>75000</td>\n",
       "        </tr>\n",
       "        <tr>\n",
       "            <td>2</td>\n",
       "            <td>Fort Portal</td>\n",
       "            <td>UGA</td>\n",
       "            <td>0.671</td>\n",
       "            <td>30.275</td>\n",
       "            <td>42670</td>\n",
       "        </tr>\n",
       "        <tr>\n",
       "            <td>3</td>\n",
       "            <td>Potenza</td>\n",
       "            <td>ITA</td>\n",
       "            <td>40.642</td>\n",
       "            <td>15.799</td>\n",
       "            <td>69060</td>\n",
       "        </tr>\n",
       "        <tr>\n",
       "            <td>4</td>\n",
       "            <td>Campobasso</td>\n",
       "            <td>ITA</td>\n",
       "            <td>41.563</td>\n",
       "            <td>14.656</td>\n",
       "            <td>50762</td>\n",
       "        </tr>\n",
       "        <tr>\n",
       "            <td>5</td>\n",
       "            <td>Aosta</td>\n",
       "            <td>ITA</td>\n",
       "            <td>45.737</td>\n",
       "            <td>7.315</td>\n",
       "            <td>34062</td>\n",
       "        </tr>\n",
       "        <tr>\n",
       "            <td>6</td>\n",
       "            <td>Mariehamn</td>\n",
       "            <td>ALD</td>\n",
       "            <td>60.097</td>\n",
       "            <td>19.949</td>\n",
       "            <td>10682</td>\n",
       "        </tr>\n",
       "        <tr>\n",
       "            <td>7</td>\n",
       "            <td>Ramallah</td>\n",
       "            <td>PSE</td>\n",
       "            <td>31.90294</td>\n",
       "            <td>35.20621</td>\n",
       "            <td>24599</td>\n",
       "        </tr>\n",
       "        <tr>\n",
       "            <td>8</td>\n",
       "            <td>Vatican City</td>\n",
       "            <td>VAT</td>\n",
       "            <td>41.90001</td>\n",
       "            <td>12.44781</td>\n",
       "            <td>832</td>\n",
       "        </tr>\n",
       "        <tr>\n",
       "            <td>9</td>\n",
       "            <td>Poitier</td>\n",
       "            <td>FRA</td>\n",
       "            <td>46.58329</td>\n",
       "            <td>0.33328</td>\n",
       "            <td>85960</td>\n",
       "        </tr>\n",
       "        <tr>\n",
       "            <td>10</td>\n",
       "            <td>Clermont-Ferrand</td>\n",
       "            <td>FRA</td>\n",
       "            <td>45.77998</td>\n",
       "            <td>3.08001</td>\n",
       "            <td>233050</td>\n",
       "        </tr>\n",
       "    </tbody>\n",
       "</table>\n",
       "<span style=\"font-style:italic;text-align:center;\">Truncated to <a href=\"https://jupysql.ploomber.io/en/latest/api/configuration.html#displaylimit\">displaylimit</a> of 10.</span>"
      ],
      "text/plain": [
       "+----+------------------+---------+----------+-----------+------------+\n",
       "| id |       name       | country | latitude | longitude | population |\n",
       "+----+------------------+---------+----------+-----------+------------+\n",
       "| 1  |      Bombo       |   UGA   |  0.5833  |  32.5333  |   75000    |\n",
       "| 2  |   Fort Portal    |   UGA   |  0.671   |   30.275  |   42670    |\n",
       "| 3  |     Potenza      |   ITA   |  40.642  |   15.799  |   69060    |\n",
       "| 4  |    Campobasso    |   ITA   |  41.563  |   14.656  |   50762    |\n",
       "| 5  |      Aosta       |   ITA   |  45.737  |   7.315   |   34062    |\n",
       "| 6  |    Mariehamn     |   ALD   |  60.097  |   19.949  |   10682    |\n",
       "| 7  |     Ramallah     |   PSE   | 31.90294 |  35.20621 |   24599    |\n",
       "| 8  |   Vatican City   |   VAT   | 41.90001 |  12.44781 |    832     |\n",
       "| 9  |     Poitier      |   FRA   | 46.58329 |  0.33328  |   85960    |\n",
       "| 10 | Clermont-Ferrand |   FRA   | 45.77998 |  3.08001  |   233050   |\n",
       "+----+------------------+---------+----------+-----------+------------+\n",
       "Truncated to displaylimit of 10."
      ]
     },
     "execution_count": 12,
     "metadata": {},
     "output_type": "execute_result"
    }
   ],
   "source": [
    "%%sql \n",
    "\n",
    "SELECT * FROM cities;"
   ]
  },
  {
   "cell_type": "markdown",
   "metadata": {},
   "source": [
    "To limit the number of rows returned, use the `LIMIT` keyword. For example, `SELECT * FROM cities LIMIT 10` will return only the first 10 rows."
   ]
  },
  {
   "cell_type": "code",
   "execution_count": 13,
   "metadata": {},
   "outputs": [
    {
     "data": {
      "text/html": [
       "<span style=\"None\">Running query in &#x27;duckdb:///:memory:&#x27;</span>"
      ],
      "text/plain": [
       "Running query in 'duckdb:///:memory:'"
      ]
     },
     "metadata": {},
     "output_type": "display_data"
    },
    {
     "data": {
      "text/html": [
       "<table>\n",
       "    <thead>\n",
       "        <tr>\n",
       "            <th>id</th>\n",
       "            <th>name</th>\n",
       "            <th>country</th>\n",
       "            <th>latitude</th>\n",
       "            <th>longitude</th>\n",
       "            <th>population</th>\n",
       "        </tr>\n",
       "    </thead>\n",
       "    <tbody>\n",
       "        <tr>\n",
       "            <td>1</td>\n",
       "            <td>Bombo</td>\n",
       "            <td>UGA</td>\n",
       "            <td>0.5833</td>\n",
       "            <td>32.5333</td>\n",
       "            <td>75000</td>\n",
       "        </tr>\n",
       "        <tr>\n",
       "            <td>2</td>\n",
       "            <td>Fort Portal</td>\n",
       "            <td>UGA</td>\n",
       "            <td>0.671</td>\n",
       "            <td>30.275</td>\n",
       "            <td>42670</td>\n",
       "        </tr>\n",
       "        <tr>\n",
       "            <td>3</td>\n",
       "            <td>Potenza</td>\n",
       "            <td>ITA</td>\n",
       "            <td>40.642</td>\n",
       "            <td>15.799</td>\n",
       "            <td>69060</td>\n",
       "        </tr>\n",
       "        <tr>\n",
       "            <td>4</td>\n",
       "            <td>Campobasso</td>\n",
       "            <td>ITA</td>\n",
       "            <td>41.563</td>\n",
       "            <td>14.656</td>\n",
       "            <td>50762</td>\n",
       "        </tr>\n",
       "        <tr>\n",
       "            <td>5</td>\n",
       "            <td>Aosta</td>\n",
       "            <td>ITA</td>\n",
       "            <td>45.737</td>\n",
       "            <td>7.315</td>\n",
       "            <td>34062</td>\n",
       "        </tr>\n",
       "        <tr>\n",
       "            <td>6</td>\n",
       "            <td>Mariehamn</td>\n",
       "            <td>ALD</td>\n",
       "            <td>60.097</td>\n",
       "            <td>19.949</td>\n",
       "            <td>10682</td>\n",
       "        </tr>\n",
       "        <tr>\n",
       "            <td>7</td>\n",
       "            <td>Ramallah</td>\n",
       "            <td>PSE</td>\n",
       "            <td>31.90294</td>\n",
       "            <td>35.20621</td>\n",
       "            <td>24599</td>\n",
       "        </tr>\n",
       "        <tr>\n",
       "            <td>8</td>\n",
       "            <td>Vatican City</td>\n",
       "            <td>VAT</td>\n",
       "            <td>41.90001</td>\n",
       "            <td>12.44781</td>\n",
       "            <td>832</td>\n",
       "        </tr>\n",
       "        <tr>\n",
       "            <td>9</td>\n",
       "            <td>Poitier</td>\n",
       "            <td>FRA</td>\n",
       "            <td>46.58329</td>\n",
       "            <td>0.33328</td>\n",
       "            <td>85960</td>\n",
       "        </tr>\n",
       "        <tr>\n",
       "            <td>10</td>\n",
       "            <td>Clermont-Ferrand</td>\n",
       "            <td>FRA</td>\n",
       "            <td>45.77998</td>\n",
       "            <td>3.08001</td>\n",
       "            <td>233050</td>\n",
       "        </tr>\n",
       "    </tbody>\n",
       "</table>\n",
       "<span style=\"font-style:italic;text-align:center;\">Truncated to <a href=\"https://jupysql.ploomber.io/en/latest/api/configuration.html#displaylimit\">displaylimit</a> of 10.</span>"
      ],
      "text/plain": [
       "+----+------------------+---------+----------+-----------+------------+\n",
       "| id |       name       | country | latitude | longitude | population |\n",
       "+----+------------------+---------+----------+-----------+------------+\n",
       "| 1  |      Bombo       |   UGA   |  0.5833  |  32.5333  |   75000    |\n",
       "| 2  |   Fort Portal    |   UGA   |  0.671   |   30.275  |   42670    |\n",
       "| 3  |     Potenza      |   ITA   |  40.642  |   15.799  |   69060    |\n",
       "| 4  |    Campobasso    |   ITA   |  41.563  |   14.656  |   50762    |\n",
       "| 5  |      Aosta       |   ITA   |  45.737  |   7.315   |   34062    |\n",
       "| 6  |    Mariehamn     |   ALD   |  60.097  |   19.949  |   10682    |\n",
       "| 7  |     Ramallah     |   PSE   | 31.90294 |  35.20621 |   24599    |\n",
       "| 8  |   Vatican City   |   VAT   | 41.90001 |  12.44781 |    832     |\n",
       "| 9  |     Poitier      |   FRA   | 46.58329 |  0.33328  |   85960    |\n",
       "| 10 | Clermont-Ferrand |   FRA   | 45.77998 |  3.08001  |   233050   |\n",
       "+----+------------------+---------+----------+-----------+------------+\n",
       "Truncated to displaylimit of 10."
      ]
     },
     "execution_count": 13,
     "metadata": {},
     "output_type": "execute_result"
    }
   ],
   "source": [
    "%%sql\n",
    "\n",
    "SELECT * FROM cities LIMIT 10;"
   ]
  },
  {
   "cell_type": "markdown",
   "metadata": {},
   "source": [
    "Select a subset of columns from the `cities` table and display the first 10 rows."
   ]
  },
  {
   "cell_type": "code",
   "execution_count": 14,
   "metadata": {},
   "outputs": [
    {
     "data": {
      "text/html": [
       "<span style=\"None\">Running query in &#x27;duckdb:///:memory:&#x27;</span>"
      ],
      "text/plain": [
       "Running query in 'duckdb:///:memory:'"
      ]
     },
     "metadata": {},
     "output_type": "display_data"
    },
    {
     "data": {
      "text/html": [
       "<table>\n",
       "    <thead>\n",
       "        <tr>\n",
       "            <th>name</th>\n",
       "            <th>country</th>\n",
       "        </tr>\n",
       "    </thead>\n",
       "    <tbody>\n",
       "        <tr>\n",
       "            <td>Bombo</td>\n",
       "            <td>UGA</td>\n",
       "        </tr>\n",
       "        <tr>\n",
       "            <td>Fort Portal</td>\n",
       "            <td>UGA</td>\n",
       "        </tr>\n",
       "        <tr>\n",
       "            <td>Potenza</td>\n",
       "            <td>ITA</td>\n",
       "        </tr>\n",
       "        <tr>\n",
       "            <td>Campobasso</td>\n",
       "            <td>ITA</td>\n",
       "        </tr>\n",
       "        <tr>\n",
       "            <td>Aosta</td>\n",
       "            <td>ITA</td>\n",
       "        </tr>\n",
       "        <tr>\n",
       "            <td>Mariehamn</td>\n",
       "            <td>ALD</td>\n",
       "        </tr>\n",
       "        <tr>\n",
       "            <td>Ramallah</td>\n",
       "            <td>PSE</td>\n",
       "        </tr>\n",
       "        <tr>\n",
       "            <td>Vatican City</td>\n",
       "            <td>VAT</td>\n",
       "        </tr>\n",
       "        <tr>\n",
       "            <td>Poitier</td>\n",
       "            <td>FRA</td>\n",
       "        </tr>\n",
       "        <tr>\n",
       "            <td>Clermont-Ferrand</td>\n",
       "            <td>FRA</td>\n",
       "        </tr>\n",
       "    </tbody>\n",
       "</table>\n",
       "<span style=\"font-style:italic;text-align:center;\">Truncated to <a href=\"https://jupysql.ploomber.io/en/latest/api/configuration.html#displaylimit\">displaylimit</a> of 10.</span>"
      ],
      "text/plain": [
       "+------------------+---------+\n",
       "|       name       | country |\n",
       "+------------------+---------+\n",
       "|      Bombo       |   UGA   |\n",
       "|   Fort Portal    |   UGA   |\n",
       "|     Potenza      |   ITA   |\n",
       "|    Campobasso    |   ITA   |\n",
       "|      Aosta       |   ITA   |\n",
       "|    Mariehamn     |   ALD   |\n",
       "|     Ramallah     |   PSE   |\n",
       "|   Vatican City   |   VAT   |\n",
       "|     Poitier      |   FRA   |\n",
       "| Clermont-Ferrand |   FRA   |\n",
       "+------------------+---------+\n",
       "Truncated to displaylimit of 10."
      ]
     },
     "execution_count": 14,
     "metadata": {},
     "output_type": "execute_result"
    }
   ],
   "source": [
    "%%sql\n",
    "\n",
    "SELECT name, country FROM cities LIMIT 10;"
   ]
  },
  {
   "cell_type": "markdown",
   "metadata": {},
   "source": [
    "To select distinct values, use the `DISTINCT` keyword. For example, `SELECT DISTINCT country FROM cities` will return only the distinct values of the `country` column."
   ]
  },
  {
   "cell_type": "code",
   "execution_count": 15,
   "metadata": {},
   "outputs": [
    {
     "data": {
      "text/html": [
       "<span style=\"None\">Running query in &#x27;duckdb:///:memory:&#x27;</span>"
      ],
      "text/plain": [
       "Running query in 'duckdb:///:memory:'"
      ]
     },
     "metadata": {},
     "output_type": "display_data"
    },
    {
     "data": {
      "text/html": [
       "<table>\n",
       "    <thead>\n",
       "        <tr>\n",
       "            <th>country</th>\n",
       "        </tr>\n",
       "    </thead>\n",
       "    <tbody>\n",
       "        <tr>\n",
       "            <td>VAT</td>\n",
       "        </tr>\n",
       "        <tr>\n",
       "            <td>NLD</td>\n",
       "        </tr>\n",
       "        <tr>\n",
       "            <td>GEO</td>\n",
       "        </tr>\n",
       "        <tr>\n",
       "            <td>PRT</td>\n",
       "        </tr>\n",
       "        <tr>\n",
       "            <td>PAK</td>\n",
       "        </tr>\n",
       "        <tr>\n",
       "            <td>UZB</td>\n",
       "        </tr>\n",
       "        <tr>\n",
       "            <td>NER</td>\n",
       "        </tr>\n",
       "        <tr>\n",
       "            <td>POL</td>\n",
       "        </tr>\n",
       "        <tr>\n",
       "            <td>CHE</td>\n",
       "        </tr>\n",
       "        <tr>\n",
       "            <td>EGY</td>\n",
       "        </tr>\n",
       "    </tbody>\n",
       "</table>\n",
       "<span style=\"font-style:italic;text-align:center;\">Truncated to <a href=\"https://jupysql.ploomber.io/en/latest/api/configuration.html#displaylimit\">displaylimit</a> of 10.</span>"
      ],
      "text/plain": [
       "+---------+\n",
       "| country |\n",
       "+---------+\n",
       "|   VAT   |\n",
       "|   NLD   |\n",
       "|   GEO   |\n",
       "|   PRT   |\n",
       "|   PAK   |\n",
       "|   UZB   |\n",
       "|   NER   |\n",
       "|   POL   |\n",
       "|   CHE   |\n",
       "|   EGY   |\n",
       "+---------+\n",
       "Truncated to displaylimit of 10."
      ]
     },
     "execution_count": 15,
     "metadata": {},
     "output_type": "execute_result"
    }
   ],
   "source": [
    "%%sql\n",
    "\n",
    "SELECT DISTINCT country FROM cities LIMIT 10;"
   ]
  },
  {
   "cell_type": "markdown",
   "metadata": {},
   "source": [
    "To count the number of rows returned, use the `COUNT(*)` function. For example, `SELECT COUNT(*) FROM cities` will return the number of rows in the `cities` table."
   ]
  },
  {
   "cell_type": "code",
   "execution_count": 16,
   "metadata": {},
   "outputs": [
    {
     "data": {
      "text/html": [
       "<span style=\"None\">Running query in &#x27;duckdb:///:memory:&#x27;</span>"
      ],
      "text/plain": [
       "Running query in 'duckdb:///:memory:'"
      ]
     },
     "metadata": {},
     "output_type": "display_data"
    },
    {
     "data": {
      "text/html": [
       "<table>\n",
       "    <thead>\n",
       "        <tr>\n",
       "            <th>count_star()</th>\n",
       "        </tr>\n",
       "    </thead>\n",
       "    <tbody>\n",
       "        <tr>\n",
       "            <td>1249</td>\n",
       "        </tr>\n",
       "    </tbody>\n",
       "</table>"
      ],
      "text/plain": [
       "+--------------+\n",
       "| count_star() |\n",
       "+--------------+\n",
       "|     1249     |\n",
       "+--------------+"
      ]
     },
     "execution_count": 16,
     "metadata": {},
     "output_type": "execute_result"
    }
   ],
   "source": [
    "%%sql\n",
    "\n",
    "SELECT COUNT(*) FROM cities;"
   ]
  },
  {
   "cell_type": "markdown",
   "metadata": {},
   "source": [
    "To count the number of distinct values, use the `COUNT(DISTINCT column)` function. For example, `SELECT COUNT(DISTINCT country) FROM cities` will return the number of distinct values in the `country` column."
   ]
  },
  {
   "cell_type": "code",
   "execution_count": 17,
   "metadata": {},
   "outputs": [
    {
     "data": {
      "text/html": [
       "<span style=\"None\">Running query in &#x27;duckdb:///:memory:&#x27;</span>"
      ],
      "text/plain": [
       "Running query in 'duckdb:///:memory:'"
      ]
     },
     "metadata": {},
     "output_type": "display_data"
    },
    {
     "data": {
      "text/html": [
       "<table>\n",
       "    <thead>\n",
       "        <tr>\n",
       "            <th>count(DISTINCT country)</th>\n",
       "        </tr>\n",
       "    </thead>\n",
       "    <tbody>\n",
       "        <tr>\n",
       "            <td>200</td>\n",
       "        </tr>\n",
       "    </tbody>\n",
       "</table>"
      ],
      "text/plain": [
       "+-------------------------+\n",
       "| count(DISTINCT country) |\n",
       "+-------------------------+\n",
       "|           200           |\n",
       "+-------------------------+"
      ]
     },
     "execution_count": 17,
     "metadata": {},
     "output_type": "execute_result"
    }
   ],
   "source": [
    "%%sql\n",
    "\n",
    "SELECT COUNT(DISTINCT country) FROM cities;"
   ]
  },
  {
   "cell_type": "markdown",
   "metadata": {},
   "source": [
    "To calculate the maximum value, use the `MAX(column)` function. For example, `SELECT MAX(population) FROM cities` will return the maximum value in the `population` column."
   ]
  },
  {
   "cell_type": "code",
   "execution_count": 18,
   "metadata": {},
   "outputs": [
    {
     "data": {
      "text/html": [
       "<span style=\"None\">Running query in &#x27;duckdb:///:memory:&#x27;</span>"
      ],
      "text/plain": [
       "Running query in 'duckdb:///:memory:'"
      ]
     },
     "metadata": {},
     "output_type": "display_data"
    },
    {
     "data": {
      "text/html": [
       "<table>\n",
       "    <thead>\n",
       "        <tr>\n",
       "            <th>max(population)</th>\n",
       "        </tr>\n",
       "    </thead>\n",
       "    <tbody>\n",
       "        <tr>\n",
       "            <td>35676000</td>\n",
       "        </tr>\n",
       "    </tbody>\n",
       "</table>"
      ],
      "text/plain": [
       "+-----------------+\n",
       "| max(population) |\n",
       "+-----------------+\n",
       "|     35676000    |\n",
       "+-----------------+"
      ]
     },
     "execution_count": 18,
     "metadata": {},
     "output_type": "execute_result"
    }
   ],
   "source": [
    "%%sql\n",
    "\n",
    "SELECT MAX(population) FROM cities;"
   ]
  },
  {
   "cell_type": "markdown",
   "metadata": {},
   "source": [
    "To calculate the total value, use the `SUM(column)` function. For example, `SELECT SUM(population) FROM cities` will return the total value in the `population` column."
   ]
  },
  {
   "cell_type": "code",
   "execution_count": 19,
   "metadata": {},
   "outputs": [
    {
     "data": {
      "text/html": [
       "<span style=\"None\">Running query in &#x27;duckdb:///:memory:&#x27;</span>"
      ],
      "text/plain": [
       "Running query in 'duckdb:///:memory:'"
      ]
     },
     "metadata": {},
     "output_type": "display_data"
    },
    {
     "data": {
      "text/html": [
       "<table>\n",
       "    <thead>\n",
       "        <tr>\n",
       "            <th>sum(population)</th>\n",
       "        </tr>\n",
       "    </thead>\n",
       "    <tbody>\n",
       "        <tr>\n",
       "            <td>1475534501</td>\n",
       "        </tr>\n",
       "    </tbody>\n",
       "</table>"
      ],
      "text/plain": [
       "+-----------------+\n",
       "| sum(population) |\n",
       "+-----------------+\n",
       "|    1475534501   |\n",
       "+-----------------+"
      ]
     },
     "execution_count": 19,
     "metadata": {},
     "output_type": "execute_result"
    }
   ],
   "source": [
    "%%sql\n",
    "\n",
    "SELECT SUM(population) FROM cities;"
   ]
  },
  {
   "cell_type": "markdown",
   "metadata": {},
   "source": [
    "To calculate the average value, use the `AVG(column)` function. For example, `SELECT AVG(population) FROM cities` will return the average value in the `population` column."
   ]
  },
  {
   "cell_type": "code",
   "execution_count": 20,
   "metadata": {},
   "outputs": [
    {
     "data": {
      "text/html": [
       "<span style=\"None\">Running query in &#x27;duckdb:///:memory:&#x27;</span>"
      ],
      "text/plain": [
       "Running query in 'duckdb:///:memory:'"
      ]
     },
     "metadata": {},
     "output_type": "display_data"
    },
    {
     "data": {
      "text/html": [
       "<table>\n",
       "    <thead>\n",
       "        <tr>\n",
       "            <th>avg(population)</th>\n",
       "        </tr>\n",
       "    </thead>\n",
       "    <tbody>\n",
       "        <tr>\n",
       "            <td>1181372.6989591673</td>\n",
       "        </tr>\n",
       "    </tbody>\n",
       "</table>"
      ],
      "text/plain": [
       "+--------------------+\n",
       "|  avg(population)   |\n",
       "+--------------------+\n",
       "| 1181372.6989591673 |\n",
       "+--------------------+"
      ]
     },
     "execution_count": 20,
     "metadata": {},
     "output_type": "execute_result"
    }
   ],
   "source": [
    "%%sql\n",
    "\n",
    "SELECT AVG(population) FROM cities;"
   ]
  },
  {
   "cell_type": "markdown",
   "metadata": {},
   "source": [
    "To order the results, use the O`RDER BY column` clause. For example, `SELECT * FROM cities ORDER BY country` will return the rows ordered by the `country` column alphabetically."
   ]
  },
  {
   "cell_type": "code",
   "execution_count": 21,
   "metadata": {},
   "outputs": [
    {
     "data": {
      "text/html": [
       "<span style=\"None\">Running query in &#x27;duckdb:///:memory:&#x27;</span>"
      ],
      "text/plain": [
       "Running query in 'duckdb:///:memory:'"
      ]
     },
     "metadata": {},
     "output_type": "display_data"
    },
    {
     "data": {
      "text/html": [
       "<table>\n",
       "    <thead>\n",
       "        <tr>\n",
       "            <th>id</th>\n",
       "            <th>name</th>\n",
       "            <th>country</th>\n",
       "            <th>latitude</th>\n",
       "            <th>longitude</th>\n",
       "            <th>population</th>\n",
       "        </tr>\n",
       "    </thead>\n",
       "    <tbody>\n",
       "        <tr>\n",
       "            <td>666</td>\n",
       "            <td>Mazar-e Sharif</td>\n",
       "            <td>AFG</td>\n",
       "            <td>36.69999</td>\n",
       "            <td>67.10003</td>\n",
       "            <td>458151</td>\n",
       "        </tr>\n",
       "        <tr>\n",
       "            <td>1219</td>\n",
       "            <td>Kabul</td>\n",
       "            <td>AFG</td>\n",
       "            <td>34.51669</td>\n",
       "            <td>69.18326</td>\n",
       "            <td>3277000</td>\n",
       "        </tr>\n",
       "        <tr>\n",
       "            <td>665</td>\n",
       "            <td>Herat</td>\n",
       "            <td>AFG</td>\n",
       "            <td>34.33001</td>\n",
       "            <td>62.16999</td>\n",
       "            <td>481009</td>\n",
       "        </tr>\n",
       "        <tr>\n",
       "            <td>1024</td>\n",
       "            <td>Kandahar</td>\n",
       "            <td>AFG</td>\n",
       "            <td>31.61002</td>\n",
       "            <td>65.69495</td>\n",
       "            <td>715542</td>\n",
       "        </tr>\n",
       "        <tr>\n",
       "            <td>1177</td>\n",
       "            <td>Luanda</td>\n",
       "            <td>AGO</td>\n",
       "            <td>-8.83829</td>\n",
       "            <td>13.23443</td>\n",
       "            <td>5172900</td>\n",
       "        </tr>\n",
       "        <tr>\n",
       "            <td>669</td>\n",
       "            <td>Malanje</td>\n",
       "            <td>AGO</td>\n",
       "            <td>-9.54</td>\n",
       "            <td>16.34003</td>\n",
       "            <td>125856</td>\n",
       "        </tr>\n",
       "        <tr>\n",
       "            <td>670</td>\n",
       "            <td>Benguela</td>\n",
       "            <td>AGO</td>\n",
       "            <td>-12.57826</td>\n",
       "            <td>13.40723</td>\n",
       "            <td>151226</td>\n",
       "        </tr>\n",
       "        <tr>\n",
       "            <td>671</td>\n",
       "            <td>Lubango</td>\n",
       "            <td>AGO</td>\n",
       "            <td>-14.91001</td>\n",
       "            <td>13.49002</td>\n",
       "            <td>125632</td>\n",
       "        </tr>\n",
       "        <tr>\n",
       "            <td>672</td>\n",
       "            <td>Namibe</td>\n",
       "            <td>AGO</td>\n",
       "            <td>-15.19004</td>\n",
       "            <td>12.16002</td>\n",
       "            <td>132900</td>\n",
       "        </tr>\n",
       "        <tr>\n",
       "            <td>1026</td>\n",
       "            <td>Menongue</td>\n",
       "            <td>AGO</td>\n",
       "            <td>-14.66661</td>\n",
       "            <td>17.69999</td>\n",
       "            <td>13030</td>\n",
       "        </tr>\n",
       "    </tbody>\n",
       "</table>\n",
       "<span style=\"font-style:italic;text-align:center;\">Truncated to <a href=\"https://jupysql.ploomber.io/en/latest/api/configuration.html#displaylimit\">displaylimit</a> of 10.</span>"
      ],
      "text/plain": [
       "+------+----------------+---------+-----------+-----------+------------+\n",
       "|  id  |      name      | country |  latitude | longitude | population |\n",
       "+------+----------------+---------+-----------+-----------+------------+\n",
       "| 666  | Mazar-e Sharif |   AFG   |  36.69999 |  67.10003 |   458151   |\n",
       "| 1219 |     Kabul      |   AFG   |  34.51669 |  69.18326 |  3277000   |\n",
       "| 665  |     Herat      |   AFG   |  34.33001 |  62.16999 |   481009   |\n",
       "| 1024 |    Kandahar    |   AFG   |  31.61002 |  65.69495 |   715542   |\n",
       "| 1177 |     Luanda     |   AGO   |  -8.83829 |  13.23443 |  5172900   |\n",
       "| 669  |    Malanje     |   AGO   |   -9.54   |  16.34003 |   125856   |\n",
       "| 670  |    Benguela    |   AGO   | -12.57826 |  13.40723 |   151226   |\n",
       "| 671  |    Lubango     |   AGO   | -14.91001 |  13.49002 |   125632   |\n",
       "| 672  |     Namibe     |   AGO   | -15.19004 |  12.16002 |   132900   |\n",
       "| 1026 |    Menongue    |   AGO   | -14.66661 |  17.69999 |   13030    |\n",
       "+------+----------------+---------+-----------+-----------+------------+\n",
       "Truncated to displaylimit of 10."
      ]
     },
     "execution_count": 21,
     "metadata": {},
     "output_type": "execute_result"
    }
   ],
   "source": [
    "%%sql\n",
    "\n",
    "SELECT * FROM cities ORDER BY country LIMIT 10;"
   ]
  },
  {
   "cell_type": "markdown",
   "metadata": {},
   "source": [
    "To order the results in descending order, use the `ORDER BY column DESC clause`. For example, `SELECT * FROM cities ORDER BY country ASC, population DESC` will return the rows ordered by the `country` column alphabetical order and then by the `population` column in descending order."
   ]
  },
  {
   "cell_type": "code",
   "execution_count": 22,
   "metadata": {},
   "outputs": [
    {
     "data": {
      "text/html": [
       "<span style=\"None\">Running query in &#x27;duckdb:///:memory:&#x27;</span>"
      ],
      "text/plain": [
       "Running query in 'duckdb:///:memory:'"
      ]
     },
     "metadata": {},
     "output_type": "display_data"
    },
    {
     "data": {
      "text/html": [
       "<table>\n",
       "    <thead>\n",
       "        <tr>\n",
       "            <th>id</th>\n",
       "            <th>name</th>\n",
       "            <th>country</th>\n",
       "            <th>latitude</th>\n",
       "            <th>longitude</th>\n",
       "            <th>population</th>\n",
       "        </tr>\n",
       "    </thead>\n",
       "    <tbody>\n",
       "        <tr>\n",
       "            <td>1219</td>\n",
       "            <td>Kabul</td>\n",
       "            <td>AFG</td>\n",
       "            <td>34.51669</td>\n",
       "            <td>69.18326</td>\n",
       "            <td>3277000</td>\n",
       "        </tr>\n",
       "        <tr>\n",
       "            <td>1024</td>\n",
       "            <td>Kandahar</td>\n",
       "            <td>AFG</td>\n",
       "            <td>31.61002</td>\n",
       "            <td>65.69495</td>\n",
       "            <td>715542</td>\n",
       "        </tr>\n",
       "        <tr>\n",
       "            <td>665</td>\n",
       "            <td>Herat</td>\n",
       "            <td>AFG</td>\n",
       "            <td>34.33001</td>\n",
       "            <td>62.16999</td>\n",
       "            <td>481009</td>\n",
       "        </tr>\n",
       "        <tr>\n",
       "            <td>666</td>\n",
       "            <td>Mazar-e Sharif</td>\n",
       "            <td>AFG</td>\n",
       "            <td>36.69999</td>\n",
       "            <td>67.10003</td>\n",
       "            <td>458151</td>\n",
       "        </tr>\n",
       "        <tr>\n",
       "            <td>1177</td>\n",
       "            <td>Luanda</td>\n",
       "            <td>AGO</td>\n",
       "            <td>-8.83829</td>\n",
       "            <td>13.23443</td>\n",
       "            <td>5172900</td>\n",
       "        </tr>\n",
       "        <tr>\n",
       "            <td>1027</td>\n",
       "            <td>Huambo</td>\n",
       "            <td>AGO</td>\n",
       "            <td>-12.74999</td>\n",
       "            <td>15.76001</td>\n",
       "            <td>1100000</td>\n",
       "        </tr>\n",
       "        <tr>\n",
       "            <td>670</td>\n",
       "            <td>Benguela</td>\n",
       "            <td>AGO</td>\n",
       "            <td>-12.57826</td>\n",
       "            <td>13.40723</td>\n",
       "            <td>151226</td>\n",
       "        </tr>\n",
       "        <tr>\n",
       "            <td>672</td>\n",
       "            <td>Namibe</td>\n",
       "            <td>AGO</td>\n",
       "            <td>-15.19004</td>\n",
       "            <td>12.16002</td>\n",
       "            <td>132900</td>\n",
       "        </tr>\n",
       "        <tr>\n",
       "            <td>669</td>\n",
       "            <td>Malanje</td>\n",
       "            <td>AGO</td>\n",
       "            <td>-9.54</td>\n",
       "            <td>16.34003</td>\n",
       "            <td>125856</td>\n",
       "        </tr>\n",
       "        <tr>\n",
       "            <td>671</td>\n",
       "            <td>Lubango</td>\n",
       "            <td>AGO</td>\n",
       "            <td>-14.91001</td>\n",
       "            <td>13.49002</td>\n",
       "            <td>125632</td>\n",
       "        </tr>\n",
       "    </tbody>\n",
       "</table>\n",
       "<span style=\"font-style:italic;text-align:center;\">Truncated to <a href=\"https://jupysql.ploomber.io/en/latest/api/configuration.html#displaylimit\">displaylimit</a> of 10.</span>"
      ],
      "text/plain": [
       "+------+----------------+---------+-----------+-----------+------------+\n",
       "|  id  |      name      | country |  latitude | longitude | population |\n",
       "+------+----------------+---------+-----------+-----------+------------+\n",
       "| 1219 |     Kabul      |   AFG   |  34.51669 |  69.18326 |  3277000   |\n",
       "| 1024 |    Kandahar    |   AFG   |  31.61002 |  65.69495 |   715542   |\n",
       "| 665  |     Herat      |   AFG   |  34.33001 |  62.16999 |   481009   |\n",
       "| 666  | Mazar-e Sharif |   AFG   |  36.69999 |  67.10003 |   458151   |\n",
       "| 1177 |     Luanda     |   AGO   |  -8.83829 |  13.23443 |  5172900   |\n",
       "| 1027 |     Huambo     |   AGO   | -12.74999 |  15.76001 |  1100000   |\n",
       "| 670  |    Benguela    |   AGO   | -12.57826 |  13.40723 |   151226   |\n",
       "| 672  |     Namibe     |   AGO   | -15.19004 |  12.16002 |   132900   |\n",
       "| 669  |    Malanje     |   AGO   |   -9.54   |  16.34003 |   125856   |\n",
       "| 671  |    Lubango     |   AGO   | -14.91001 |  13.49002 |   125632   |\n",
       "+------+----------------+---------+-----------+-----------+------------+\n",
       "Truncated to displaylimit of 10."
      ]
     },
     "execution_count": 22,
     "metadata": {},
     "output_type": "execute_result"
    },
    {
     "ename": "",
     "evalue": "",
     "output_type": "error",
     "traceback": [
      "\u001b[1;31mThe Kernel crashed while executing code in the current cell or a previous cell. \n",
      "\u001b[1;31mPlease review the code in the cell(s) to identify a possible cause of the failure. \n",
      "\u001b[1;31mClick <a href='https://aka.ms/vscodeJupyterKernelCrash'>here</a> for more info. \n",
      "\u001b[1;31mView Jupyter <a href='command:jupyter.viewOutput'>log</a> for further details."
     ]
    }
   ],
   "source": [
    "%%sql \n",
    "\n",
    "SELECT * FROM cities ORDER BY country ASC, population DESC LIMIT 10;"
   ]
  },
  {
   "cell_type": "markdown",
   "metadata": {},
   "source": []
  }
 ],
 "metadata": {
  "kernelspec": {
   "display_name": "geo",
   "language": "python",
   "name": "python3"
  },
  "language_info": {
   "codemirror_mode": {
    "name": "ipython",
    "version": 3
   },
   "file_extension": ".py",
   "mimetype": "text/x-python",
   "name": "python",
   "nbconvert_exporter": "python",
   "pygments_lexer": "ipython3",
   "version": "3.8.18"
  }
 },
 "nbformat": 4,
 "nbformat_minor": 2
}
